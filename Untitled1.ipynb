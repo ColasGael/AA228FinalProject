{
 "cells": [
  {
   "cell_type": "code",
   "execution_count": 14,
   "metadata": {},
   "outputs": [
    {
     "name": "stdout",
     "output_type": "stream",
     "text": [
      "    Experience  Reward  Experience  Experience  Reward  Experience  Reward\n",
      "0            1   -12.0           1           1   -12.0           1     0.0\n",
      "1            2     4.9           2           2   -12.0           2     3.2\n",
      "2            3   -11.0           3           3     6.3           3    -0.7\n",
      "3            4     4.6           4           4   -11.0           4     6.1\n",
      "4            5     4.7           5           5   -11.0           5     2.8\n",
      "5            6     3.6           6           6     4.8           6     2.7\n",
      "6            7     4.3           7           7   -12.0           7    -4.8\n",
      "7            8   -13.9           8           8   -12.0           8    -0.5\n",
      "8            9     4.1           9           9     8.0           9     2.0\n",
      "9           10   -12.0          10          10   -12.0          10     0.7\n",
      "10          11   -15.2          11          11     5.6          11     4.5\n",
      "11          12   -11.0          12          12   -12.0          12   -18.0\n",
      "12          13     3.4          13          13     9.9          13     9.9\n",
      "13          14   -11.0          14          14   -12.0          14    -4.4\n",
      "14          15     5.7          15          15   -12.0          15   -15.0\n",
      "15          16     4.4          16          16   -13.0          16     5.4\n",
      "16          17   -14.2          17          17   -11.0          17     1.2\n",
      "17          18     6.2          18          18     3.5          18     6.4\n",
      "18          19     4.4          19          19     4.6          19    -1.2\n",
      "19          20     5.3          20          20   -12.0          20    -2.3\n",
      "20          21   -17.1          21          21   -12.0          21     2.1\n",
      "21          22   -15.6          22          22   -11.0          22     1.7\n",
      "22          23   -11.0          23          23   -11.0          23     1.3\n",
      "23          24     6.3          24          24   -11.5          24     8.4\n",
      "24          25     5.1          25          25   -11.0          25    -0.1\n",
      "25          26   -11.0          26          26     8.8          26   -11.2\n",
      "26          27   -11.0          27          27   -15.7          27   -13.2\n",
      "27          28   -11.0          28          28   -12.0          28    -0.5\n",
      "28          29   -11.0          29          29   -11.1          29   -11.4\n",
      "29          30   -11.0          30          30   -11.0          30     0.6\n",
      "30          31   -11.0          31          31   -12.0          31    -0.3\n",
      "31          32   -18.0          32          32   -12.0          32     7.7\n",
      "32          33     5.5          33          33     8.4          33     2.3\n",
      "33          34   -11.0          34          34   -12.0          34   -17.0\n",
      "34          35     4.2          35          35     3.0          35     0.6\n",
      "35          36     4.7          36          36   -12.0          36     0.2\n",
      "36          37     5.3          37          37   -13.5          37    -0.6\n",
      "37          38     6.3          38          38     3.4          38     6.0\n",
      "38          39   -11.0          39          39   -12.0          39   -13.0\n",
      "39          40   -15.0          40          40     6.1          40     1.6\n",
      "40          41     5.4          41          41   -12.0          41    -2.4\n",
      "41          42   -11.0          42          42   -12.0          42     3.7\n",
      "42          43     4.8          43          43   -12.0          43     0.5\n",
      "43          44   -11.0          44          44   -11.0          44     7.3\n",
      "44          45     3.7          45          45   -12.0          45     3.8\n",
      "45          46     6.1          46          46   -11.6          46     5.0\n",
      "46          47   -19.0          47          47     7.1          47     7.7\n",
      "47          48     5.5          48          48     6.3          48    -1.7\n",
      "48          49   -18.7          49          49   -11.0          49    -3.0\n",
      "49          50     6.3          50          50   -11.3          50     8.8\n"
     ]
    }
   ],
   "source": [
    "import pandas as pd\n",
    "\n",
    "lidar = \"lidar.csv\"\n",
    "baseline = \"baseline.csv\"\n",
    "MCTS_vanilla = \"mcts_vanilla.csv\"\n",
    "MCTS_QMDP = \"mcts_qmdp.csv\"\n",
    "\n",
    "path = \"/home/zhangvwk/Documents/Stanford/aa228/final_project/AA228FinalProject/data_collection/\"\n",
    "\n",
    "df_lidar = pd.read_csv(path + lidar)\n",
    "df_baseline = pd.read_csv(path + baseline)[\"Experience\"]\n",
    "df_MCTS_vanilla = pd.read_csv(path + MCTS_vanilla)\n",
    "df_MCTS_QMDP = pd.read_csv(path + MCTS_QMDP)\n",
    "\n",
    "frames = [df_lidar, df_baseline, df_MCTS_vanilla, df_MCTS_QMDP]\n",
    "result = pd.concat(frames, axis=1)\n",
    "print(result)"
   ]
  },
  {
   "cell_type": "code",
   "execution_count": null,
   "metadata": {},
   "outputs": [],
   "source": []
  }
 ],
 "metadata": {
  "kernelspec": {
   "display_name": "Python 3",
   "language": "python",
   "name": "python3"
  },
  "language_info": {
   "codemirror_mode": {
    "name": "ipython",
    "version": 3
   },
   "file_extension": ".py",
   "mimetype": "text/x-python",
   "name": "python",
   "nbconvert_exporter": "python",
   "pygments_lexer": "ipython3",
   "version": "3.5.2"
  }
 },
 "nbformat": 4,
 "nbformat_minor": 2
}
