{
 "cells": [
  {
   "cell_type": "code",
   "execution_count": 124,
   "metadata": {},
   "outputs": [
    {
     "name": "stdout",
     "output_type": "stream",
     "text": [
      "lidar : 14.0 % ; (mean, std) = (-3.9979999999999993, 9.3081813914602325)\n",
      "baseline : 8.0 % ; (mean, std) = (-8.1080000000000023, 9.9695831284513634)\n",
      "mcts_vanilla : 14.0 % ; (mean, std) = (-6.8180000000000005, 8.2629907616147449)\n",
      "mcts_qmdp : 16.0 % ; (mean, std) = (-0.1419999999999989, 6.6816865156843122)\n",
      "bb_qmdp : 20.0 % ; (mean, std) = (-4.8019999999999996, 9.5421190903642508)\n",
      "mcts_mixture : 28.0 % ; (mean, std) = (2.3220000000000041, 5.2145514609384644)\n",
      "Average EndTime = 33.04\n",
      "Average NbBumps = 3.72\n",
      "Deaths = 4.0 %\n",
      "[-12.0, 4.9000000000000004, -11.0, 4.6000000000000014, 4.7000000000000002, 3.6000000000000032, 4.3000000000000016, -13.9, 4.1000000000000014, -12.0, -15.199999999999999, -11.0, 3.4000000000000044, -11.0, 5.6999999999999984, 4.4000000000000004, -14.199999999999999, 6.1999999999999984, 4.4000000000000004, 5.2999999999999998, -17.100000000000001, -15.6, -11.0, 6.2999999999999998, 5.0999999999999996, -11.0, -11.0, -11.0, -11.0, -11.0, -11.0, -18.000000000000004, 5.5, -11.0, 4.2000000000000011, 4.7000000000000002, 5.2999999999999998, 6.2999999999999998, -11.0, -15.0, 5.4000000000000004, -11.0, 4.7999999999999998, -11.0, 3.7000000000000028, 6.0999999999999996, -19.000000000000004, 5.5, -18.699999999999999, 6.2999999999999998]\n"
     ]
    }
   ],
   "source": [
    "import pandas as pd\n",
    "import numpy as np\n",
    "\n",
    "methods = [\"lidar\", \"baseline\", \\\n",
    "           \"mcts_vanilla\", \"mcts_qmdp\", \\\n",
    "           \"bb_qmdp\", \"mcts_mixture\"]\n",
    "\n",
    "lidar = methods[0] + \".csv\"\n",
    "baseline = methods[1] + \".csv\"\n",
    "mcts_vanilla = methods[2] + \".csv\"\n",
    "mcts_qmdp = methods[3] + \".csv\"\n",
    "mcts_mixture = methods[5] + \".csv\"\n",
    "\n",
    "bb_qmdp = [2.499999999999999,-14.0,3.3000000000000025,7.0,6.8,4.7,-12.0,-12.0,-13.0,-11.0,-14.000000000000002,-11.0,9.9,-12.0,-12.0,7.199999999999999,-13.0,-16.0,1.7000000000000028,3.3999999999999995,-0.20000000000000107,2.200000000000001,-12.0,-19.000000000000007,-12.0,-11.799999999999999,-11.799999999999999,-15.0,-11.2,-15.0,-13.0,8.4,-12.0,8.3,8.1,0.4000000000000039,0.7000000000000028,6.8999999999999995,1.2000000000000046,-12.0,-15.0,-11.0,-19.2,7.0,1.2000000000000046,8.8,7.1,-13.4,-12.0,8.700000000000001]\n",
    "df_bb_qmdp = pd.DataFrame(bb_qmdp)\n",
    "exp = [i for i in range(1,51)]\n",
    "df_bb_qmdp['Experience'] = exp\n",
    "df_bb_qmdp.columns = ['Reward4', 'Experience']\n",
    "\n",
    "df_lidar = pd.read_csv(lidar)\n",
    "df_baseline = pd.read_csv(baseline)\n",
    "df_mcts_vanilla = pd.read_csv(mcts_vanilla)\n",
    "df_mcts_qmdp = pd.read_csv(mcts_qmdp)\n",
    "df_mcts_mixture = pd.read_csv(mcts_mixture)\n",
    "\n",
    "frames = [df_lidar, df_baseline[\"Reward1\"], \\\n",
    "          df_mcts_vanilla[\"Reward2\"], df_mcts_qmdp[\"Reward3\"], \\\n",
    "          df_bb_qmdp[\"Reward4\"], df_mcts_mixture[\"Reward5\"]]\n",
    "\n",
    "frames_ = [df_lidar, df_baseline, \\\n",
    "           df_mcts_vanilla, df_mcts_qmdp, \\\n",
    "           df_bb_qmdp, df_mcts_mixture]\n",
    "\n",
    "result = pd.concat(frames, axis=1)\n",
    "counts = []\n",
    "\n",
    "for row in range(50):\n",
    "    counts.append(int(result.iloc[:,1:len(methods) + 1].loc[row].idxmax()[-1:]))\n",
    "values = len(methods)\n",
    "count = [0 for i in range(values)]\n",
    "\n",
    "for element in counts:\n",
    "    for value in range(values):\n",
    "        if element == value:\n",
    "            count[value] += 1\n",
    "            \n",
    "for method in methods:\n",
    "    idx = methods.index(method)\n",
    "    mean = frames_[idx][\"Reward\"+str(idx)].mean()\n",
    "    std = frames_[idx][\"Reward\"+str(idx)].std()\n",
    "    print(method, \":\", 100*count[idx]/50, \"%\", \";\", \"(mean, std) =\", (mean, std))\n",
    "\n",
    "print(\"Average EndTime =\", df_mcts_mixture[\"EndTime\"].mean())\n",
    "print(\"Average NbBumps =\", df_mcts_mixture[\"NbBumps\"].mean())\n",
    "print(\"Deaths =\", 100*df_mcts_mixture[df_mcts_mixture.EndStatus == -1].count()[\"EndStatus\"]/50, \"%\")\n",
    "\n",
    "print(list(frames[0][\"Reward0\"].values))"
   ]
  },
  {
   "cell_type": "code",
   "execution_count": 130,
   "metadata": {},
   "outputs": [
    {
     "data": {
      "text/html": [
       "<iframe id=\"igraph\" scrolling=\"no\" style=\"border:none;\" seamless=\"seamless\" src=\"https://plot.ly/~zhangvwk/7.embed\" height=\"525px\" width=\"100%\"></iframe>"
      ],
      "text/plain": [
       "<plotly.tools.PlotlyDisplay object>"
      ]
     },
     "execution_count": 130,
     "metadata": {},
     "output_type": "execute_result"
    }
   ],
   "source": [
    "import plotly as py\n",
    "py.tools.set_credentials_file(username='zhangvwk', api_key='1mVYeOCGqJn6lm01R7zX')\n",
    "import plotly.graph_objs as go\n",
    "\n",
    "trace = [0 for i in range(len(frames))]\n",
    "\n",
    "for idx in range(len(frames)):\n",
    "#     print(list(frames[idx][\"Reward\" + str(idx)].values))\n",
    "    trace[idx] = go.Box(y = list(frames_[idx][\"Reward\" + str(idx)].values))\n",
    "    \n",
    "data = [trace[idx] for idx in range(len(frames))]\n",
    "py.plotly.iplot(data)\n",
    "pio.write_image(fig, 'images/fig1.svg')"
   ]
  },
  {
   "cell_type": "code",
   "execution_count": null,
   "metadata": {},
   "outputs": [],
   "source": []
  }
 ],
 "metadata": {
  "kernelspec": {
   "display_name": "Python 3",
   "language": "python",
   "name": "python3"
  },
  "language_info": {
   "codemirror_mode": {
    "name": "ipython",
    "version": 3
   },
   "file_extension": ".py",
   "mimetype": "text/x-python",
   "name": "python",
   "nbconvert_exporter": "python",
   "pygments_lexer": "ipython3",
   "version": "3.5.2"
  }
 },
 "nbformat": 4,
 "nbformat_minor": 2
}
