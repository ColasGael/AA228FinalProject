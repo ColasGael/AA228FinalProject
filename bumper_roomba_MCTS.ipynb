{
 "cells": [
  {
   "cell_type": "markdown",
   "metadata": {},
   "source": [
    "# AA228/CS238 Optional Final Project: Escape Roomba\n",
    "\n",
    "This notebook tests the QMDP + Branch & Bound implementation"
   ]
  },
  {
   "cell_type": "code",
   "execution_count": 1,
   "metadata": {},
   "outputs": [
    {
     "data": {
      "text/plain": [
       "\"/home/zhangvwk/Documents/Stanford/aa228/final_project/AA228FinalProject/Project.toml\""
      ]
     },
     "execution_count": 1,
     "metadata": {},
     "output_type": "execute_result"
    }
   ],
   "source": [
    "# activate project environment\n",
    "# include these lines of code in any future scripts/notebooks\n",
    "#---\n",
    "import Pkg\n",
    "if !haskey(Pkg.installed(), \"AA228FinalProject\")\n",
    "    jenv = joinpath(dirname(@__FILE__()), \".\") # this assumes the notebook is in the same dir\n",
    "    # as the Project.toml file, which should be in top level dir of the project. \n",
    "    # Change accordingly if this is not the case.\n",
    "    Pkg.activate(jenv)\n",
    "end\n",
    "#---"
   ]
  },
  {
   "cell_type": "code",
   "execution_count": 2,
   "metadata": {},
   "outputs": [
    {
     "name": "stderr",
     "output_type": "stream",
     "text": [
      "┌ Info: Recompiling stale cache file /home/zhangvwk/.julia/compiled/v1.0/AA228FinalProject/uFJfC.ji for AA228FinalProject [fe2df5ea-4d44-4e5a-a895-9dbc87b19b37]\n",
      "└ @ Base loading.jl:1190\n"
     ]
    }
   ],
   "source": [
    "# import necessary packages\n",
    "using AA228FinalProject\n",
    "using POMDPs\n",
    "using POMDPPolicies\n",
    "using BeliefUpdaters\n",
    "using ParticleFilters\n",
    "using POMDPSimulators\n",
    "using Cairo\n",
    "using Gtk\n",
    "using Random\n",
    "using Printf"
   ]
  },
  {
   "cell_type": "markdown",
   "metadata": {},
   "source": [
    "## Define the POMDP\n",
    "\n",
    "### Create state space, action space, sensor and construct POMDP\n",
    "\n",
    "The QMDP offline method compute 1 alpha vector $\\alpha_a$ per action, with components $\\alpha_a(s)$ for $s \\in \\mathcal{S}, a \\in \\mathcal{A}$\n",
    "\n",
    "This methods only works with finite state and action spaces, we first define the discretization/\n",
    "\n",
    "Then we instantiate a Bump sensor. The Bumper indicates when contact has been made between any part of the Roomba and any wall.\n",
    "\n",
    "Next, we instantiate the MDP, which defines the underlying simulation environment, assuming full observability. The MDP takes many arguments to specify details of the problem. One argument we must specify here is the ```config```. This argument, which can take values 1,2, or 3, specifies the room configuration, with each configuration corresponding to a different location for the goal and stairs.\n",
    "\n",
    "Finally, we instantiate the POMDP. The POMDP takes as an argument the underlying MDP as well as the sensor, which it uses to define the observation model. "
   ]
  },
  {
   "cell_type": "code",
   "execution_count": 3,
   "metadata": {},
   "outputs": [],
   "source": [
    "# discrete state space\n",
    "num_x_pts = 20\n",
    "num_y_pts = 20\n",
    "num_th_pts = 5\n",
    "sspace = DiscreteRoombaStateSpace(num_x_pts,num_y_pts,num_th_pts);"
   ]
  },
  {
   "cell_type": "code",
   "execution_count": 4,
   "metadata": {},
   "outputs": [],
   "source": [
    "# discrete action space\n",
    "vlist = [0, 5, 10]\n",
    "omlist = [-1, 0, 1]\n",
    "aspace = vec(collect(RoombaAct(v, om) for v in vlist, om in omlist));"
   ]
  },
  {
   "cell_type": "code",
   "execution_count": 5,
   "metadata": {},
   "outputs": [
    {
     "name": "stdout",
     "output_type": "stream",
     "text": [
      "Number of discrete states:6000\n",
      "Number of discrete actions:9\n"
     ]
    }
   ],
   "source": [
    "sensor = Bumper()\n",
    "config = 1 # 1,2, or 3\n",
    "m = RoombaPOMDP(sensor=sensor, mdp=RoombaMDP(config=config, sspace=sspace, aspace=aspace));\n",
    "println(\"Number of discrete states:\", n_states(m))\n",
    "println(\"Number of discrete actions:\", n_actions(m))"
   ]
  },
  {
   "cell_type": "markdown",
   "metadata": {},
   "source": [
    "### Setting up a Particle Filter\n",
    "\n",
    "Here, as the state space is high dimensional, we instantiate a particle filter.\n",
    "\n",
    "First, we instantiate a resampler, which is responsible for updating the belief state given an observation. The first argument for both resamplers is the number of particles that represent the belief state. The lidar resampler takes a low-variance resampler as an additional argument, which is responsible for efficiently resampling a weighted set of particles. \n",
    "\n",
    "Next, we instantiate a ```SimpleParticleFilter```, which enables us to perform our belief updates.\n",
    "\n",
    "Finally, we pass this particle filter into a custom struct called a ```RoombaParticleFilter```, which takes two additional arguments. These arguments specify the noise in the velocity and turn-rate, used when propegating particles according to the action taken. These can be tuned depending on the type of sensor used."
   ]
  },
  {
   "cell_type": "code",
   "execution_count": 6,
   "metadata": {},
   "outputs": [],
   "source": [
    "num_particles = 1000\n",
    "resampler = BumperResampler(num_particles)\n",
    "\n",
    "spf = SimpleParticleFilter(m, resampler)\n",
    "\n",
    "v_noise_coefficient = 2.0\n",
    "om_noise_coefficient = 0.5\n",
    "\n",
    "belief_updater = RoombaParticleFilter(spf, v_noise_coefficient, om_noise_coefficient);"
   ]
  },
  {
   "cell_type": "markdown",
   "metadata": {},
   "source": [
    "## Solve the POMDP"
   ]
  },
  {
   "cell_type": "markdown",
   "metadata": {},
   "source": [
    "### Define a policy : Monte Carlo Search Tree\n",
    "\n",
    "First we create a struct that subtypes the Policy abstract type, defined in the package ```POMDPPolicies.jl```. Here, we can also define certain parameters, such as a variable defining the depth 'd'.\n",
    "\n",
    "Next, we define a function that can take in our policy and the belief state and return the desired action. We do this by defining a new ```POMDPs.action``` function that will work with our policy. "
   ]
  },
  {
   "cell_type": "code",
   "execution_count": 40,
   "metadata": {},
   "outputs": [],
   "source": [
    "using DataStructures # for DefaultDict\n",
    "\n",
    "# Define the policy to test\n",
    "mutable struct ToEnd1 <: Policy\n",
    "    d::Int64 # depth \n",
    "    Q::DefaultDict{Any,Any,Int64}\n",
    "    N::DefaultDict{Any,Any,Int64}\n",
    "    T::Array{Any,1}\n",
    "end\n",
    " \n",
    "function pi_0(b::ParticleCollection{RoombaState}, aspace)\n",
    "    return aspace[rand(1:length(aspace))] # Select an action randomly \n",
    "end\n",
    "\n",
    "function Rollout(b::ParticleCollection{RoombaState}, d::Int64)\n",
    "    n_part = n_particles(b)\n",
    "    if d == 0\n",
    "        return 0\n",
    "    end\n",
    "    # NEED TO DEFINE ROLLOUT POLICY PI_0\n",
    "    a = pi_0(b, actions(m))\n",
    "    j = rand(1:n_part)\n",
    "    s = particle(b, j)\n",
    "    sp, o, r = generate_sor(belief_updater.spf.model, s, a, belief_updater.spf.rng)\n",
    "    bp = update(belief_updater, b, a, o)\n",
    "    return r + discount(m)*Rollout(bp, d-1)\n",
    "end\n",
    "\n",
    "function Simulate(b::ParticleCollection{RoombaState}, h, d::Int64, Q, N, T)\n",
    "    n_part = n_particles(b)\n",
    "    c = 5.0 # exploration constant\n",
    "    if d == 0\n",
    "        return 0\n",
    "    end\n",
    "\n",
    "    if !(h in T)\n",
    "        for a in actions(m)\n",
    "            # Initialize N and Q values\n",
    "            (N[(h,a)], Q[(h,a)]) = (0, 0)\n",
    "        end\n",
    "        T = vcat(T,h) # append h to search tree T\n",
    "        return Rollout(b, d)\n",
    "    end\n",
    "    N[h] = sum([N[(h,a)] for a in actions(m)])\n",
    "    a_ = findmax([Q[(h,a)] + c*sqrt(log(N[h])/N[(h,a)]) for a in actions(m)])[2]\n",
    "    j = rand(1:n_part)\n",
    "    s = particle(b, j)    \n",
    "    sp, o, r = generate_sor(belief_updater.spf.model, s, a_, belief_updater.spf.rng)\n",
    "    bp = update(belief_updater, b, a, o) \n",
    "    q = r + discount(m)*Simulate(bp, string(h,a_,o), d-1, Q, N, T)\n",
    "    N[(h,a_)] += 1\n",
    "    Q[(h,a_)] += (q - Q[(h,a_)])/N[(h,a_)]\n",
    "    return Q\n",
    "end\n",
    "                          \n",
    "# define a new function that takes in the policy struct and current belief,\n",
    "# and returns the desired action\n",
    "function POMDPs.action(p::ToEnd1, b::ParticleCollection{RoombaState})\n",
    "    n_part = n_particles(b)\n",
    "    h = \"\"\n",
    "    iters = 50\n",
    "    \n",
    "    for iter in 1:iters\n",
    "        j = rand(1:n_part)\n",
    "        s = particle(b, j)\n",
    "        last_q = Simulate(b, h, p.d, p.Q, p.N, p.T)\n",
    "    end\n",
    "    # Extract the argmax over all actions\n",
    "    return findmax([last_q[(h,a)] for a in actions(m)])[2]\n",
    "end"
   ]
  },
  {
   "cell_type": "markdown",
   "metadata": {},
   "source": [
    "### Simulation and rendering\n",
    "\n",
    "Here, we will demonstrate how to seed the environment, run a simulation, and render the simulation. To render the simulation, we use the ```Gtk``` package. \n",
    "\n",
    "The simulation is carried out using the ```stepthrough``` function defined in the package ```POMDPSimulators.jl```. During a simulation, a window will open that renders the scene. It may be hidden behind other windows on your desktop."
   ]
  },
  {
   "cell_type": "code",
   "execution_count": 41,
   "metadata": {},
   "outputs": [
    {
     "ename": "UndefVarError",
     "evalue": "UndefVarError: last_q not defined",
     "output_type": "error",
     "traceback": [
      "UndefVarError: last_q not defined",
      "",
      "Stacktrace:",
      " [1] (::getfield(Main, Symbol(\"##111#112\")){String})(::RoombaAct) at ./none:0",
      " [2] collect(::Base.Generator{Array{RoombaAct,1},getfield(Main, Symbol(\"##111#112\")){String}}) at ./generator.jl:47",
      " [3] action(::ToEnd1, ::ParticleCollection{RoombaState}) at ./In[40]:69",
      " [4] action_info at /home/zhangvwk/.julia/packages/POMDPModelTools/eHEjm/src/info.jl:30 [inlined]",
      " [5] iterate(::POMDPSimulators.POMDPSimIterator{(:s, :a, :r, :sp, :t, :i, :ai, :b, :o, :bp, :ui),RoombaPOMDP{Bumper,Bool},ToEnd1,RoombaParticleFilter,MersenneTwister,ParticleCollection{RoombaState},RoombaState}, ::Tuple{Int64,RoombaState,ParticleCollection{RoombaState}}) at /home/zhangvwk/.julia/packages/POMDPSimulators/xyfJM/src/stepthrough.jl:102",
      " [6] iterate at /home/zhangvwk/.julia/packages/POMDPSimulators/xyfJM/src/stepthrough.jl:96 [inlined]",
      " [7] iterate at ./iterators.jl:139 [inlined]",
      " [8] iterate(::Base.Iterators.Enumerate{POMDPSimulators.POMDPSimIterator{(:s, :a, :r, :sp, :t, :i, :ai, :b, :o, :bp, :ui),RoombaPOMDP{Bumper,Bool},ToEnd1,RoombaParticleFilter,MersenneTwister,ParticleCollection{RoombaState},RoombaState}}) at ./iterators.jl:138",
      " [9] top-level scope at In[41]:11"
     ]
    }
   ],
   "source": [
    "# first seed the environment\n",
    "Random.seed!(50)\n",
    "\n",
    "# reset the policy\n",
    "depth = 1\n",
    "p = ToEnd1(depth, DefaultDict(0), DefaultDict(0), []) # here, the argument sets the time-steps elapsed to 0\n",
    "\n",
    "# run the simulation\n",
    "c = @GtkCanvas()\n",
    "win = GtkWindow(c, \"Roomba Environment\", 600, 600)\n",
    "for (t, step) in enumerate(stepthrough(m, p, belief_updater, max_steps=100))\n",
    "    @guarded draw(c) do widget\n",
    "        \n",
    "        # the following lines render the room, the particles, and the roomba\n",
    "        ctx = getgc(c)\n",
    "        set_source_rgb(ctx,1,1,1)\n",
    "        paint(ctx)\n",
    "        render(ctx, m, step)\n",
    "        \n",
    "        # render some information that can help with debugging\n",
    "        # here, we render the time-step, the state, and the observation\n",
    "        move_to(ctx,300,400)\n",
    "        show_text(ctx, @sprintf(\"t=%d, state=%s, o=%.3f\",t,string(step.s),step.o))\n",
    "    end\n",
    "    show(c)\n",
    "    sleep(0.01) # to slow down the simulation\n",
    "end"
   ]
  },
  {
   "cell_type": "markdown",
   "metadata": {},
   "source": [
    "### Specifying initial states and beliefs\n",
    "If, for debugging purposes, you would like to hard-code a starting location or initial belief state for the roomba, you can do so by taking the following steps.\n",
    "\n",
    "First, we define the initial state using the following line of code:\n",
    "```\n",
    "is = RoombaState(x,y,th,0.)\n",
    "```\n",
    "Where ```x``` and ```y``` are the x,y coordinates of the starting location and ```th``` is the heading in radians. The last entry, ```0.```, respresents whether the state is terminal, and should remain unchanged.\n",
    "\n",
    "If you would like to initialize the Roomba's belief as perfectly localized, you can do so with the following line of code:\n",
    "```\n",
    "b0 = Deterministic(is)\n",
    "```\n",
    "If you would like to initialize the standard unlocalized belief, use these lines:\n",
    "```\n",
    "dist = initialstate_distribution(m)\n",
    "b0 = initialize_belief(belief_updater, dist)\n",
    "```\n",
    "Finally, we call the ```stepthrough``` function using the initial state and belief as follows:\n",
    "```\n",
    "stepthrough(m,planner,belief_updater,b0,is,max_steps=300)\n",
    "```\n",
    "\n",
    "### Discretizing the state space\n",
    "Certain POMDP solution techniques require discretizing the state space. Should we need to do so, we first define the state space by specifying the number of points to discretize the range of possible x, y, and $\\theta$ values, and then calling the DiscreteRoombaStateSpace constructor.\n",
    "```\n",
    "num_x_pts = ... # e.g. 50\n",
    "num_y_pts = ... # e.g. 50\n",
    "num_th_pts = ... # e.g. 20\n",
    "sspace = DiscreteRoombaStateSpace(num_x_pts,num_y_pts,num_th_pts)\n",
    "```\n",
    "\n",
    "Next, we pass in the state space as an argument when constructing the POMDP.\n",
    "```\n",
    "m = RoombaPOMDP(sensor=sensor, mdp=RoombaMDP(config=config, sspace=sspace))\n",
    "```\n",
    "\n",
    "### Discretizing the action space\n",
    "Certain POMDP solution techniques require discretizing the action space. Should we need to do so, we first define the action space as follows:\n",
    "```\n",
    "vlist = [...]\n",
    "omlist = [...]\n",
    "aspace = vec(collect(RoombaAct(v, om) for v in vlist, om in omlist))\n",
    "```\n",
    "Where ```vlist``` is an array of possible values for the velocity (e.g. ```[0,1,10]```) and ```omlist``` is an array of possible turn-rates (e.g. ```[-1,0,1]```).\n",
    "\n",
    "Next, we pass in the action space as an argument when constructing the POMDP.\n",
    "```\n",
    "m = RoombaPOMDP(sensor=sensor, mdp=RoombaMDP(config=config, aspace=aspace))\n",
    "```\n",
    "\n",
    "### Discretizing the Lidar observation space\n",
    "Certain POMDP solution techniques require discretizing the observation space. The Bumper sensor has a discrete observation space by default, while the Lidar sensor is continuous by default. The observations can take values in the range $[0,\\infty)$. Should we need to do discretize the Lidar observation space, we first define cut-points $x_{1:K}$ such that all observations between $-\\infty$ and $x_1$ are considered the discrete observation 1, all observations between $x_1$ and $x_2$ are considered discrete observation 2, and so on. All observations between $x_K$ and $\\infty$ are considered discrete observation $K+1$. We instantiate the discretized sensor as follows:\n",
    "```\n",
    "cut_points = [x_1, x_2, ..., x_K]\n",
    "sensor = DiscreteLidar(cut_points)\n",
    "```\n",
    "Next, we pass in the sensor as an argument when constructing the POMDP as usual.\n",
    "```\n",
    "m = RoombaPOMDP(sensor=sensor, mdp=RoombaMDP(config=config))\n",
    "```\n",
    "\n",
    "\n",
    "\n",
    "\n"
   ]
  },
  {
   "cell_type": "markdown",
   "metadata": {},
   "source": [
    "### Evaluation \n",
    "\n",
    "Here, we demonstate a simple evaluation of the policy's performance for a few random seeds. This is meant to serve only as an example, and we encourage you to develop your own evaluation metrics.\n",
    "\n",
    "We intialize the robot using five different random seeds, and simulate its performance for 100 time-steps. We then sum the rewards experienced during its interaction with the environment and track this total reward for the five trials.\n",
    "Finally, we report the mean and standard error for the total reward. The standard error is the standard deviation of a sample set divided by the square root of the number of samples, and represents the uncertainty in the estimate of the mean value."
   ]
  },
  {
   "cell_type": "code",
   "execution_count": 9,
   "metadata": {},
   "outputs": [
    {
     "name": "stdout",
     "output_type": "stream",
     "text": [
      "1\n"
     ]
    },
    {
     "ename": "UndefVarError",
     "evalue": "UndefVarError: T not defined",
     "output_type": "error",
     "traceback": [
      "UndefVarError: T not defined",
      "",
      "Stacktrace:",
      " [1] Simulate at ./In[7]:33 [inlined]",
      " [2] action(::ToEnd, ::ParticleCollection{RoombaState}) at ./In[7]:59",
      " [3] action_info at /home/zhangvwk/.julia/packages/POMDPModelTools/eHEjm/src/info.jl:30 [inlined]",
      " [4] iterate(::POMDPSimulators.POMDPSimIterator{(:s, :a, :r, :sp, :t, :i, :ai, :b, :o, :bp, :ui),RoombaPOMDP{Bumper,Bool},ToEnd,RoombaParticleFilter,MersenneTwister,ParticleCollection{RoombaState},RoombaState}, ::Tuple{Int64,RoombaState,ParticleCollection{RoombaState}}) at /home/zhangvwk/.julia/packages/POMDPSimulators/xyfJM/src/stepthrough.jl:102",
      " [5] iterate at /home/zhangvwk/.julia/packages/POMDPSimulators/xyfJM/src/stepthrough.jl:96 [inlined]",
      " [6] iterate at ./generator.jl:44 [inlined]",
      " [7] grow_to!(::Array{Any,1}, ::Base.Generator{POMDPSimulators.POMDPSimIterator{(:s, :a, :r, :sp, :t, :i, :ai, :b, :o, :bp, :ui),RoombaPOMDP{Bumper,Bool},ToEnd,RoombaParticleFilter,MersenneTwister,ParticleCollection{RoombaState},RoombaState},getfield(Main, Symbol(\"##11#12\"))}) at ./array.jl:674",
      " [8] collect(::Base.Generator{POMDPSimulators.POMDPSimIterator{(:s, :a, :r, :sp, :t, :i, :ai, :b, :o, :bp, :ui),RoombaPOMDP{Bumper,Bool},ToEnd,RoombaParticleFilter,MersenneTwister,ParticleCollection{RoombaState},RoombaState},getfield(Main, Symbol(\"##11#12\"))}) at ./array.jl:617",
      " [9] top-level scope at In[9]:11"
     ]
    }
   ],
   "source": [
    "using Statistics\n",
    "\n",
    "total_rewards = []\n",
    "\n",
    "for exp = 1:5\n",
    "    println(string(exp))\n",
    "    \n",
    "    Random.seed!(exp)\n",
    "    \n",
    "    p = ToEnd(depth)\n",
    "    traj_rewards = sum([step.r for step in stepthrough(m,p,belief_updater, max_steps=100)])\n",
    "    \n",
    "    push!(total_rewards, traj_rewards)\n",
    "end\n",
    "\n",
    "@printf(\"Mean Total Reward: %.3f, StdErr Total Reward: %.3f\", mean(total_rewards), std(total_rewards)/sqrt(5))"
   ]
  },
  {
   "cell_type": "code",
   "execution_count": null,
   "metadata": {},
   "outputs": [],
   "source": []
  }
 ],
 "metadata": {
  "@webio": {
   "lastCommId": "b95e7bf12be34538815cad0821367390",
   "lastKernelId": "8547ae3a-4dff-4d1f-ab82-5333a5678eec"
  },
  "kernelspec": {
   "display_name": "Julia 1.0.2",
   "language": "julia",
   "name": "julia-1.0"
  },
  "language_info": {
   "file_extension": ".jl",
   "mimetype": "application/julia",
   "name": "julia",
   "version": "1.0.2"
  }
 },
 "nbformat": 4,
 "nbformat_minor": 1
}
