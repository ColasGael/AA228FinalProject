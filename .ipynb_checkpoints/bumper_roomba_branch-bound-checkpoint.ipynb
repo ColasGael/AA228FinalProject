{
 "cells": [
  {
   "cell_type": "markdown",
   "metadata": {},
   "source": [
    "# AA228/CS238 Optional Final Project: Escape Roomba\n",
    "\n",
    "This notebook demonstrates how to interact with the Roomba environment. We show how to:\n",
    "1. Import the necessary packages\n",
    "2. Define the sensor and construct the POMDP\n",
    "3. Set up a particle filter\n",
    "4. Define a policy\n",
    "5. Simulate and render the environment\n",
    "6. Evaluate the policy\n"
   ]
  },
  {
   "cell_type": "code",
   "execution_count": 1,
   "metadata": {},
   "outputs": [
    {
     "data": {
      "text/plain": [
       "\"/home/colasg/Documents/AA228FinalProject/Project.toml\""
      ]
     },
     "execution_count": 1,
     "metadata": {},
     "output_type": "execute_result"
    }
   ],
   "source": [
    "# activate project environment\n",
    "# include these lines of code in any future scripts/notebooks\n",
    "#---\n",
    "import Pkg\n",
    "if !haskey(Pkg.installed(), \"AA228FinalProject\")\n",
    "    jenv = joinpath(dirname(@__FILE__()), \".\") # this assumes the notebook is in the same dir\n",
    "    # as the Project.toml file, which should be in top level dir of the project. \n",
    "    # Change accordingly if this is not the case.\n",
    "    Pkg.activate(jenv)\n",
    "end\n",
    "#---"
   ]
  },
  {
   "cell_type": "code",
   "execution_count": 2,
   "metadata": {},
   "outputs": [],
   "source": [
    "# import necessary packages\n",
    "using AA228FinalProject\n",
    "using POMDPs\n",
    "using POMDPPolicies\n",
    "using BeliefUpdaters\n",
    "using ParticleFilters\n",
    "using POMDPSimulators\n",
    "using Cairo\n",
    "using Gtk\n",
    "using Random\n",
    "using Printf"
   ]
  },
  {
   "cell_type": "markdown",
   "metadata": {},
   "source": [
    "## Define sensor and construct POMDP\n",
    "In the following cell, we first instantiate a sensor. There are two sensors implemented: a lidar sensor and a bump sensor. The lidar sensor receives a single noisy measurement of the distance to the nearest wall in the direction the Roomba is facing. The bump sensor indicates when contact has been made between any part of the Roomba and any wall.\n",
    "\n",
    "Next, we instantiate the MDP, which defines the underlying simulation environment, assuming full observability. The MDP takes many arguments to specify details of the problem. Feel free to examine the underlying source code (```src/roomba_env.jl```) to gain an understanding for these arguments. One argument we must specify here is the ```config```. This argument, which can take values 1,2, or 3, specifies the room configuration, with each configuration corresponding to a different location for the goal and stairs.\n",
    "\n",
    "Finally, we instantiate the POMDP. The POMDP takes as an argument the underlying MDP as well as the sensor, which it uses to define the observation model. "
   ]
  },
  {
   "cell_type": "code",
   "execution_count": 3,
   "metadata": {},
   "outputs": [],
   "source": [
    "# discrete state space\n",
    "num_x_pts = 50\n",
    "num_y_pts = 50\n",
    "num_th_pts = 20\n",
    "sspace = DiscreteRoombaStateSpace(num_x_pts,num_y_pts,num_th_pts);"
   ]
  },
  {
   "cell_type": "code",
   "execution_count": 4,
   "metadata": {},
   "outputs": [],
   "source": [
    "# discrete action space\n",
    "vlist = [0, 5, 10]\n",
    "omlist = [-1, 0, 1]\n",
    "aspace = vec(collect(RoombaAct(v, om) for v in vlist, om in omlist));"
   ]
  },
  {
   "cell_type": "code",
   "execution_count": 5,
   "metadata": {},
   "outputs": [],
   "source": [
    "sensor = Bumper()\n",
    "config = 1 # 1,2, or 3\n",
    "m = RoombaPOMDP(sensor=sensor, mdp=RoombaMDP(config=config, sspace=sspace, aspace=aspace));"
   ]
  },
  {
   "cell_type": "markdown",
   "metadata": {},
   "source": [
    "### Setting up a Particle Filter\n",
    "\n",
    "To solve a POMDP, we must specify a method for representing the belief state and updating it given an observation and an action. Here, we demonstrate how to instantiate a particle filter, which has been implemented in the package ```ParticleFilters.jl```.\n",
    "\n",
    "First, we instantiate a resampler, which is responsible for updating the belief state given an observation. We have implemented a resampler for each of the lidar and bumper environments, the source code for which can be found in ```src/filtering.jl```. The first argument for both resamplers is the number of particles that represent the belief state. The lidar resampler takes a low-variance resampler as an additional argument, implemented for us in ```ParticleFilters.jl```, which is responsible for efficiently resampling a weighted set of particles. \n",
    "\n",
    "Next, we instantiate a ```SimpleParticleFilter```, which enables us to perform our belief updates, and is implemented for us in ```ParticleFilters.jl```, .\n",
    "\n",
    "Finally, we pass this particle filter into a custom struct called a ```RoombaParticleFilter```, which takes two additional arguments. These arguments specify the noise in the velocity and turn-rate, used when propegating particles according to the action taken. These can be tuned depending on the type of sensor used."
   ]
  },
  {
   "cell_type": "code",
   "execution_count": 6,
   "metadata": {},
   "outputs": [],
   "source": [
    "num_particles = 5000\n",
    "resampler = BumperResampler(num_particles)\n",
    "\n",
    "spf = SimpleParticleFilter(m, resampler)\n",
    "\n",
    "v_noise_coefficient = 2.0\n",
    "om_noise_coefficient = 0.5\n",
    "\n",
    "belief_updater = RoombaParticleFilter(spf, v_noise_coefficient, om_noise_coefficient);"
   ]
  },
  {
   "cell_type": "markdown",
   "metadata": {},
   "source": [
    "### Compute an upper bound on the Value function \n",
    "\n",
    "We use QMDP to compute one alpha vector $\\alpha_a, a \\in \\mathcal{A}$ per discrete action, over the discrete state space\n",
    "\n",
    "With the update rule :\n",
    "$\\alpha_a(s) = R(s,a) + \\gamma \\sum_{s'} T(s'|s, a) max_{a'} \\alpha_{a'}(s')$\n",
    "\n",
    "Here, we have a physical problem : we should have a deterministic $s' =$ POMDPs.transition$(m, s, a)$\n",
    "\n",
    "This is not exactly the case in our setup as we have some noise on the action $a = (v, \\omega)$\n",
    "\n",
    "But in our computation of QMDP upper bound, we will assume the transition is purely deterministic"
   ]
  },
  {
   "cell_type": "code",
   "execution_count": 21,
   "metadata": {
    "scrolled": true
   },
   "outputs": [
    {
     "data": {
      "text/plain": [
       "QMDPSolver (generic function with 3 methods)"
      ]
     },
     "execution_count": 21,
     "metadata": {},
     "output_type": "execute_result"
    }
   ],
   "source": [
    "function QMDPSolver(m::RoombaModel, max_iterations::Int64=20, tolerance::Float64=1e-3)\n",
    "    # mdp characteristics\n",
    "    sspace = states(m)\n",
    "    aspace = actions(m)\n",
    "    # initialize the alpha vectors to 0s\n",
    "    alphas = zeros(length(aspace), length(sspace))\n",
    "    # number of iterations\n",
    "    count = 1\n",
    "    diff = Inf\n",
    "    while (count <= max_iterations) & (diff > tolerance) \n",
    "        println(count)\n",
    "        alphas_prev = copy(alphas)\n",
    "        # iterate over the alpha vectors\n",
    "        for i in 1:length(aspace)\n",
    "            a = aspace[i]\n",
    "            # iterate over the states\n",
    "            for j in 1:length(sspace)\n",
    "                s = sspace[j]\n",
    "                # compute the next state\n",
    "                sp = rand(transition(m, s, a))\n",
    "                k = stateindex(m, sp)\n",
    "                alphas[i,j] = reward(m, s, a, sp) + discount(m) * maximum(alphas[:,k])\n",
    "            end\n",
    "        end\n",
    "        count += 1\n",
    "        diff = sum((alphas - alphas_prev).^2)\n",
    "        \n",
    "    end\n",
    "    return alphas\n",
    "end"
   ]
  },
  {
   "cell_type": "code",
   "execution_count": 22,
   "metadata": {
    "scrolled": true
   },
   "outputs": [
    {
     "name": "stdout",
     "output_type": "stream",
     "text": [
      "1\n",
      "2\n",
      "3\n",
      "4\n",
      "5\n",
      "6\n",
      "7\n",
      "8\n",
      "9\n",
      "10\n",
      "11\n",
      "12\n",
      "13\n",
      "14\n",
      "15\n",
      "16\n",
      "17\n",
      "18\n",
      "19\n",
      "20\n"
     ]
    },
    {
     "data": {
      "text/plain": [
       "9×150000 Array{Float64,2}:\n",
       " -1.28303  -1.28303  -1.28303  -1.28303  …  -1.28303  -1.28303  -1.28303\n",
       " -1.28303  -1.28303  -1.28303  -1.28303     -1.28303  -1.28303  -1.28303\n",
       " -1.28303  -1.28303  -1.28303  -1.28303     -1.28303  -1.28303  -1.28303\n",
       " -1.28303  -1.28303  -1.28303  -1.28303     -1.28303  -1.28303  -1.28303\n",
       " -1.28303  -1.28303  -1.28303  -1.28303     -1.28303  -1.28303  -1.28303\n",
       " -1.28303  -1.28303  -1.28303  -1.28303  …  -1.28303  -1.28303  -1.28303\n",
       " -1.28303  -1.28303  -1.28303  -1.28303     -1.31888  -1.31888  -1.31888\n",
       " -1.31888  -1.31888  -1.31888  -1.31888     -1.31888  -1.31888  -1.31888\n",
       " -1.31888  -1.31888  -1.31888  -1.31888     -1.31888  -1.31888  -1.31888"
      ]
     },
     "execution_count": 22,
     "metadata": {},
     "output_type": "execute_result"
    }
   ],
   "source": [
    "alphas = QMDPSolver(m)"
   ]
  },
  {
   "cell_type": "markdown",
   "metadata": {},
   "source": [
    "### Define a policy : Branch and Bound\n",
    "\n",
    "Here we demonstrate how to define a naive policy that attempts navigate the Roomba to the goal. The heuristic policy we define here first spins around for 25 time-steps in order to perform localization, then follows a simple proprtional control law that navigates the robot in the direction of the goal state (note that this policy fails if there is a wall in the way).\n",
    "\n",
    "First we create a struct that subtypes the Policy abstract type, defined in the package ```POMDPPolicies.jl```. Here, we can also define certain parameters, such as a variable tracking the current time-step.\n",
    "\n",
    "Next, we define a function that can take in our policy and the belief state and return the desired action. We do this by defining a new ```POMDPs.action``` function that will work with our policy. "
   ]
  },
  {
   "cell_type": "code",
   "execution_count": 29,
   "metadata": {},
   "outputs": [],
   "source": [
    "# Define the policy to test\n",
    "mutable struct ToEnd <: Policy\n",
    "    d::Int64 # depth of forward search\n",
    "end\n",
    "\n",
    "function branch_bound(b::ParticleCollection{RoombaState}, d::Int64)\n",
    "    # hyperparameter\n",
    "    n_samples = 1\n",
    "    \n",
    "    if d == 0\n",
    "        U = -10 # lower bound\n",
    "        return (nothing, U)\n",
    "    end\n",
    "    \n",
    "    a_best, U_best = nothing, -Inf\n",
    "    \n",
    "    # compute the upper bounds for every actions : QMDP\n",
    "    #U_upper = [ mean([ alphas[i, stateindex(m, particle(b, j))] for j in 1:n_particles(b) ]) for i in 1:length(aspace) ]\n",
    "    U_upper = [ mean([ alphas[i, stateindex(m, particle(b, j))] for j in 1:5 ]) for i in 1:length(aspace) ]\n",
    "\n",
    "    # iterate over all the possible discrete actions\n",
    "    # BETTER : for a in mdp(m).aspace\n",
    "    for (i, a) in enumerate(aspace[sortperm(-U_upper)])\n",
    "        \n",
    "        if U_upper[i] < U_best\n",
    "            return a_best, U_best\n",
    "        end\n",
    "        \n",
    "        U = 0\n",
    "        \n",
    "        # sample 'n_sample' observation\n",
    "        for count=1: n_samples\n",
    "            # sample a random particle from the belief\n",
    "            n_part = n_particles(b)\n",
    "            j = rand(1:n_part)\n",
    "            s = particle(b, j)\n",
    "            # sample a next state\n",
    "            sp = generate_s(belief_updater.spf.model, s, a, belief_updater.spf.rng)\n",
    "            # sample an observation and reward\n",
    "            (o, r) = generate_or(belief_updater.spf.model, s, a, sp, belief_updater.spf.rng)\n",
    "            # update belief\n",
    "            bp = update(belief_updater, b, a, o)\n",
    "\n",
    "            ap, Up = branch_bound(bp, d-1)\n",
    "            # update the expected return\n",
    "            U = U + 1/n_samples * (r + discount(belief_updater.spf.model) * Up)\n",
    "        end\n",
    "        \n",
    "        if U > U_best\n",
    "            a_best, U_best = a, U\n",
    "        end\n",
    "    end\n",
    "    \n",
    "    return (a_best, U_best)\n",
    "end\n",
    "\n",
    "# define a new function that takes in the policy struct and current belief,\n",
    "# and returns the desired action\n",
    "function POMDPs.action(p::ToEnd, b::ParticleCollection{RoombaState})\n",
    "    a_best, U_best = branch_bound(b, p.d)\n",
    "    return a_best\n",
    "end"
   ]
  },
  {
   "cell_type": "markdown",
   "metadata": {},
   "source": [
    "### Simulation and rendering\n",
    "\n",
    "Here, we will demonstrate how to seed the environment, run a simulation, and render the simulation. To render the simulation, we use the ```Gtk``` package. \n",
    "\n",
    "The simulation is carried out using the ```stepthrough``` function defined in the package ```POMDPSimulators.jl```. During a simulation, a window will open that renders the scene. It may be hidden behind other windows on your desktop."
   ]
  },
  {
   "cell_type": "code",
   "execution_count": 31,
   "metadata": {},
   "outputs": [
    {
     "ename": "InterruptException",
     "evalue": "InterruptException:",
     "output_type": "error",
     "traceback": [
      "InterruptException:",
      "",
      "Stacktrace:",
      " [1] diff(::Array{Float64,1}) at ./multidimensional.jl:665",
      " [2] stateindex(::RoombaPOMDP{Bumper,Bool}, ::RoombaState) at /home/colasg/Documents/AA228FinalProject/src/roomba_env.jl:298",
      " [3] transition(::RoombaPOMDP{Bumper,Bool}, ::RoombaState, ::StaticArrays.SArray{Tuple{2},Float64,1,2}) at /home/colasg/Documents/AA228FinalProject/src/roomba_env.jl:254",
      " [4] macro expansion at /home/colasg/.julia/packages/POMDPs/JiYXY/src/generative_impl.jl:19 [inlined]",
      " [5] generate_s(::RoombaPOMDP{Bumper,Bool}, ::RoombaState, ::StaticArrays.SArray{Tuple{2},Float64,1,2}, ::MersenneTwister) at /home/colasg/.julia/packages/POMDPs/JiYXY/src/generative_impl.jl:18",
      " [6] update(::RoombaParticleFilter, ::ParticleCollection{RoombaState}, ::RoombaAct, ::Bool) at /home/colasg/Documents/AA228FinalProject/src/filtering.jl:81",
      " [7] update_info(::RoombaParticleFilter, ::ParticleCollection{RoombaState}, ::RoombaAct, ::Bool) at /home/colasg/.julia/packages/POMDPModelTools/eHEjm/src/info.jl:52",
      " [8] iterate(::POMDPSimulators.POMDPSimIterator{(:s, :a, :r, :sp, :t, :i, :ai, :b, :o, :bp, :ui),RoombaPOMDP{Bumper,Bool},ToEnd,RoombaParticleFilter,MersenneTwister,ParticleCollection{RoombaState},RoombaState}, ::Tuple{Int64,RoombaState,ParticleCollection{RoombaState}}) at /home/colasg/.julia/packages/POMDPSimulators/xyfJM/src/stepthrough.jl:104",
      " [9] iterate(::Base.Iterators.Enumerate{POMDPSimulators.POMDPSimIterator{(:s, :a, :r, :sp, :t, :i, :ai, :b, :o, :bp, :ui),RoombaPOMDP{Bumper,Bool},ToEnd,RoombaParticleFilter,MersenneTwister,ParticleCollection{RoombaState},RoombaState}}, ::Tuple{Int64,Tuple{Int64,RoombaState,ParticleCollection{RoombaState}}}) at ./iterators.jl:139",
      " [10] top-level scope at In[31]:26"
     ]
    }
   ],
   "source": [
    "# first seed the environment\n",
    "Random.seed!(50)\n",
    "\n",
    "# reset the policy\n",
    "depth = 1\n",
    "p = ToEnd(depth) # here, the argument sets the time-steps elapsed to 0\n",
    "\n",
    "# run the simulation\n",
    "c = @GtkCanvas()\n",
    "win = GtkWindow(c, \"Roomba Environment\", 600, 600)\n",
    "for (t, step) in enumerate(stepthrough(m, p, belief_updater, max_steps=100))\n",
    "    @guarded draw(c) do widget\n",
    "        \n",
    "        # the following lines render the room, the particles, and the roomba\n",
    "        ctx = getgc(c)\n",
    "        set_source_rgb(ctx,1,1,1)\n",
    "        paint(ctx)\n",
    "        render(ctx, m, step)\n",
    "        \n",
    "        # render some information that can help with debugging\n",
    "        # here, we render the time-step, the state, and the observation\n",
    "        move_to(ctx,300,400)\n",
    "        show_text(ctx, @sprintf(\"t=%d, state=%s, o=%.3f\",t,string(step.s),step.o))\n",
    "    end\n",
    "    show(c)\n",
    "    sleep(0.01) # to slow down the simulation\n",
    "end"
   ]
  },
  {
   "cell_type": "markdown",
   "metadata": {},
   "source": [
    "### Specifying initial states and beliefs\n",
    "If, for debugging purposes, you would like to hard-code a starting location or initial belief state for the roomba, you can do so by taking the following steps.\n",
    "\n",
    "First, we define the initial state using the following line of code:\n",
    "```\n",
    "is = RoombaState(x,y,th,0.)\n",
    "```\n",
    "Where ```x``` and ```y``` are the x,y coordinates of the starting location and ```th``` is the heading in radians. The last entry, ```0.```, respresents whether the state is terminal, and should remain unchanged.\n",
    "\n",
    "If you would like to initialize the Roomba's belief as perfectly localized, you can do so with the following line of code:\n",
    "```\n",
    "b0 = Deterministic(is)\n",
    "```\n",
    "If you would like to initialize the standard unlocalized belief, use these lines:\n",
    "```\n",
    "dist = initialstate_distribution(m)\n",
    "b0 = initialize_belief(belief_updater, dist)\n",
    "```\n",
    "Finally, we call the ```stepthrough``` function using the initial state and belief as follows:\n",
    "```\n",
    "stepthrough(m,planner,belief_updater,b0,is,max_steps=300)\n",
    "```\n",
    "\n",
    "### Discretizing the state space\n",
    "Certain POMDP solution techniques require discretizing the state space. Should we need to do so, we first define the state space by specifying the number of points to discretize the range of possible x, y, and $\\theta$ values, and then calling the DiscreteRoombaStateSpace constructor.\n",
    "```\n",
    "num_x_pts = ... # e.g. 50\n",
    "num_y_pts = ... # e.g. 50\n",
    "num_th_pts = ... # e.g. 20\n",
    "sspace = DiscreteRoombaStateSpace(num_x_pts,num_y_pts,num_th_pts)\n",
    "```\n",
    "\n",
    "Next, we pass in the state space as an argument when constructing the POMDP.\n",
    "```\n",
    "m = RoombaPOMDP(sensor=sensor, mdp=RoombaMDP(config=config, sspace=sspace))\n",
    "```\n",
    "\n",
    "### Discretizing the action space\n",
    "Certain POMDP solution techniques require discretizing the action space. Should we need to do so, we first define the action space as follows:\n",
    "```\n",
    "vlist = [...]\n",
    "omlist = [...]\n",
    "aspace = vec(collect(RoombaAct(v, om) for v in vlist, om in omlist))\n",
    "```\n",
    "Where ```vlist``` is an array of possible values for the velocity (e.g. ```[0,1,10]```) and ```omlist``` is an array of possible turn-rates (e.g. ```[-1,0,1]```).\n",
    "\n",
    "Next, we pass in the action space as an argument when constructing the POMDP.\n",
    "```\n",
    "m = RoombaPOMDP(sensor=sensor, mdp=RoombaMDP(config=config, aspace=aspace))\n",
    "```\n",
    "\n",
    "### Discretizing the Lidar observation space\n",
    "Certain POMDP solution techniques require discretizing the observation space. The Bumper sensor has a discrete observation space by default, while the Lidar sensor is continuous by default. The observations can take values in the range $[0,\\infty)$. Should we need to do discretize the Lidar observation space, we first define cut-points $x_{1:K}$ such that all observations between $-\\infty$ and $x_1$ are considered the discrete observation 1, all observations between $x_1$ and $x_2$ are considered discrete observation 2, and so on. All observations between $x_K$ and $\\infty$ are considered discrete observation $K+1$. We instantiate the discretized sensor as follows:\n",
    "```\n",
    "cut_points = [x_1, x_2, ..., x_K]\n",
    "sensor = DiscreteLidar(cut_points)\n",
    "```\n",
    "Next, we pass in the sensor as an argument when constructing the POMDP as usual.\n",
    "```\n",
    "m = RoombaPOMDP(sensor=sensor, mdp=RoombaMDP(config=config))\n",
    "```\n",
    "\n",
    "\n",
    "\n",
    "\n"
   ]
  },
  {
   "cell_type": "markdown",
   "metadata": {},
   "source": [
    "### Evaluation \n",
    "\n",
    "Here, we demonstate a simple evaluation of the policy's performance for a few random seeds. This is meant to serve only as an example, and we encourage you to develop your own evaluation metrics.\n",
    "\n",
    "We intialize the robot using five different random seeds, and simulate its performance for 100 time-steps. We then sum the rewards experienced during its interaction with the environment and track this total reward for the five trials.\n",
    "Finally, we report the mean and standard error for the total reward. The standard error is the standard deviation of a sample set divided by the square root of the number of samples, and represents the uncertainty in the estimate of the mean value."
   ]
  },
  {
   "cell_type": "code",
   "execution_count": 215,
   "metadata": {},
   "outputs": [
    {
     "name": "stdout",
     "output_type": "stream",
     "text": [
      "1\n",
      "2\n",
      "3\n",
      "4\n",
      "5\n",
      "Mean Total Reward: -4.180, StdErr Total Reward: 4.287"
     ]
    }
   ],
   "source": [
    "using Statistics\n",
    "\n",
    "total_rewards = []\n",
    "\n",
    "for exp = 1:5\n",
    "    println(string(exp))\n",
    "    \n",
    "    Random.seed!(exp)\n",
    "    \n",
    "    p = ToEnd(depth)\n",
    "    traj_rewards = sum([step.r for step in stepthrough(m,p,belief_updater, max_steps=100)])\n",
    "    \n",
    "    push!(total_rewards, traj_rewards)\n",
    "end\n",
    "\n",
    "@printf(\"Mean Total Reward: %.3f, StdErr Total Reward: %.3f\", mean(total_rewards), std(total_rewards)/sqrt(5))"
   ]
  },
  {
   "cell_type": "code",
   "execution_count": null,
   "metadata": {},
   "outputs": [],
   "source": []
  }
 ],
 "metadata": {
  "@webio": {
   "lastCommId": "3bf3e503b2c14e8f826c5b55785c7430",
   "lastKernelId": "7bff8cf6-e8cc-4f3d-8746-ce1cd05c39fb"
  },
  "kernelspec": {
   "display_name": "Julia 1.0.2",
   "language": "julia",
   "name": "julia-1.0"
  },
  "language_info": {
   "file_extension": ".jl",
   "mimetype": "application/julia",
   "name": "julia",
   "version": "1.0.2"
  }
 },
 "nbformat": 4,
 "nbformat_minor": 1
}
