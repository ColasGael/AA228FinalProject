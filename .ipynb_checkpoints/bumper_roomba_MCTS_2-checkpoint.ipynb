{
 "cells": [
  {
   "cell_type": "markdown",
   "metadata": {},
   "source": [
    "# AA228/CS238 Optional Final Project: Escape Roomba\n",
    "\n",
    "This notebook tests the QMDP + Branch & Bound implementation"
   ]
  },
  {
   "cell_type": "code",
   "execution_count": 1,
   "metadata": {},
   "outputs": [
    {
     "data": {
      "text/plain": [
       "\"/home/zhangvwk/Documents/Stanford/aa228/final_project/AA228FinalProject/Project.toml\""
      ]
     },
     "execution_count": 1,
     "metadata": {},
     "output_type": "execute_result"
    }
   ],
   "source": [
    "# activate project environment\n",
    "# include these lines of code in any future scripts/notebooks\n",
    "#---\n",
    "import Pkg\n",
    "if !haskey(Pkg.installed(), \"AA228FinalProject\")\n",
    "    jenv = joinpath(dirname(@__FILE__()), \".\") # this assumes the notebook is in the same dir\n",
    "    # as the Project.toml file, which should be in top level dir of the project. \n",
    "    # Change accordingly if this is not the case.\n",
    "    Pkg.activate(jenv)\n",
    "end\n",
    "#---"
   ]
  },
  {
   "cell_type": "code",
   "execution_count": 2,
   "metadata": {},
   "outputs": [],
   "source": [
    "# import necessary packages\n",
    "using AA228FinalProject\n",
    "using POMDPs\n",
    "using POMDPPolicies\n",
    "using BeliefUpdaters\n",
    "using ParticleFilters\n",
    "using POMDPSimulators\n",
    "using Cairo\n",
    "using Gtk\n",
    "using Random\n",
    "using Printf\n",
    "using JLD # alpha vectors"
   ]
  },
  {
   "cell_type": "markdown",
   "metadata": {},
   "source": [
    "## Define the POMDP\n",
    "\n",
    "### Create state space, action space, sensor and construct POMDP\n",
    "\n",
    "The QMDP offline method compute 1 alpha vector $\\alpha_a$ per action, with components $\\alpha_a(s)$ for $s \\in \\mathcal{S}, a \\in \\mathcal{A}$\n",
    "\n",
    "This methods only works with finite state and action spaces, we first define the discretization/\n",
    "\n",
    "Then we instantiate a Bump sensor. The Bumper indicates when contact has been made between any part of the Roomba and any wall.\n",
    "\n",
    "Next, we instantiate the MDP, which defines the underlying simulation environment, assuming full observability. The MDP takes many arguments to specify details of the problem. One argument we must specify here is the ```config```. This argument, which can take values 1,2, or 3, specifies the room configuration, with each configuration corresponding to a different location for the goal and stairs.\n",
    "\n",
    "Finally, we instantiate the POMDP. The POMDP takes as an argument the underlying MDP as well as the sensor, which it uses to define the observation model. "
   ]
  },
  {
   "cell_type": "code",
   "execution_count": 3,
   "metadata": {},
   "outputs": [],
   "source": [
    "# discrete state space\n",
    "num_x_pts = 50\n",
    "num_y_pts = 50\n",
    "num_th_pts = 20\n",
    "sspace = DiscreteRoombaStateSpace(num_x_pts,num_y_pts,num_th_pts);"
   ]
  },
  {
   "cell_type": "code",
   "execution_count": 4,
   "metadata": {},
   "outputs": [],
   "source": [
    "# discrete action space\n",
    "vlist = [0, 5, 10]\n",
    "omlist = [-1, 0, 1]\n",
    "aspace = vec(collect(RoombaAct(v, om) for v in vlist, om in omlist));"
   ]
  },
  {
   "cell_type": "code",
   "execution_count": 5,
   "metadata": {},
   "outputs": [
    {
     "name": "stdout",
     "output_type": "stream",
     "text": [
      "Number of discrete states:150000\n",
      "Number of discrete actions:9\n"
     ]
    }
   ],
   "source": [
    "sensor = Bumper()\n",
    "config = 1 # 1,2, or 3\n",
    "m = RoombaPOMDP(sensor=sensor, mdp=RoombaMDP(config=config, sspace=sspace, aspace=aspace));\n",
    "println(\"Number of discrete states:\", n_states(m))\n",
    "println(\"Number of discrete actions:\", n_actions(m))"
   ]
  },
  {
   "cell_type": "markdown",
   "metadata": {},
   "source": [
    "### Setting up a Particle Filter\n",
    "\n",
    "Here, as the state space is high dimensional, we instantiate a particle filter.\n",
    "\n",
    "First, we instantiate a resampler, which is responsible for updating the belief state given an observation. The first argument for both resamplers is the number of particles that represent the belief state. The lidar resampler takes a low-variance resampler as an additional argument, which is responsible for efficiently resampling a weighted set of particles. \n",
    "\n",
    "Next, we instantiate a ```SimpleParticleFilter```, which enables us to perform our belief updates.\n",
    "\n",
    "Finally, we pass this particle filter into a custom struct called a ```RoombaParticleFilter```, which takes two additional arguments. These arguments specify the noise in the velocity and turn-rate, used when propegating particles according to the action taken. These can be tuned depending on the type of sensor used."
   ]
  },
  {
   "cell_type": "code",
   "execution_count": 22,
   "metadata": {},
   "outputs": [],
   "source": [
    "num_particles = 5000\n",
    "resampler = BumperResampler(num_particles)\n",
    "\n",
    "spf = SimpleParticleFilter(m, resampler)\n",
    "\n",
    "v_noise_coefficient = 2.0\n",
    "om_noise_coefficient = 0.5\n",
    "\n",
    "belief_updater = RoombaParticleFilter(spf, v_noise_coefficient, om_noise_coefficient);"
   ]
  },
  {
   "cell_type": "markdown",
   "metadata": {},
   "source": [
    "## Solve the POMDP"
   ]
  },
  {
   "cell_type": "markdown",
   "metadata": {},
   "source": [
    "### Define a policy : Monte Carlo Search Tree\n",
    "\n",
    "First we create a struct that subtypes the Policy abstract type, defined in the package ```POMDPPolicies.jl```. Here, we can also define certain parameters, such as a variable defining the depth 'd'.\n",
    "\n",
    "Next, we define a function that can take in our policy and the belief state and return the desired action. We do this by defining a new ```POMDPs.action``` function that will work with our policy. "
   ]
  },
  {
   "cell_type": "code",
   "execution_count": 23,
   "metadata": {},
   "outputs": [],
   "source": [
    "using BasicPOMCP\n",
    "\n",
    "QMDP_alphas = load(\"QMDP_alphas.jld\")[\"QMDP_alphas\"]\n",
    "\n",
    "# define the heuristic policy as follows\n",
    "struct MyHeuristicAlphas <: Policy\n",
    "    alphas::Array{Array{Float64,1},1}\n",
    "end\n",
    "\n",
    "struct MyHeuristicRandom <: Policy\n",
    "end\n",
    "\n",
    "# define what the policy actually does in POMDPs.action\n",
    "function POMDPs.action(p::MyHeuristicAlphas, s::RoombaState) \n",
    "    # note this is a function of state, not belief\n",
    "    k = stateindex(m, s)\n",
    "    idx = findmax([p.alphas[i][k] for i in 1:length(actions(m))])[2]\n",
    "    a = actions(m)[idx]\n",
    "    return a # this may need to be different for discrete actions?\n",
    "end\n",
    "\n",
    "function POMDPs.action(p::MyHeuristicRandom, s::RoombaState) \n",
    "    # note this is a function of state, not belief\n",
    "    a = actions(m)[rand(1:length(actions(m)))] # this may need to be different for discrete actions?\n",
    "    return a\n",
    "end\n",
    "\n",
    "# p = MyHeuristicRandom()\n",
    "p = MyHeuristicAlphas(QMDP_alphas)\n",
    "\n",
    "solver = POMCPSolver(estimate_value=FORollout(p))\n",
    "planner = solve(solver, m);"
   ]
  },
  {
   "cell_type": "markdown",
   "metadata": {},
   "source": [
    "### Simulation and rendering\n",
    "\n",
    "Here, we will demonstrate how to seed the environment, run a simulation, and render the simulation. To render the simulation, we use the ```Gtk``` package. \n",
    "\n",
    "The simulation is carried out using the ```stepthrough``` function defined in the package ```POMDPSimulators.jl```. During a simulation, a window will open that renders the scene. It may be hidden behind other windows on your desktop."
   ]
  },
  {
   "cell_type": "code",
   "execution_count": 26,
   "metadata": {},
   "outputs": [
    {
     "name": "stdout",
     "output_type": "stream",
     "text": [
      "action=action=[5.0, 0.0][0.0, 1.0]action=[0.0, 0.0]action=[0.0, 1.0]action=[0.0, 0.0]action=[0.0, 1.0]action=[0.0, -1.0]action=[0.0, 1.0]action=[0.0, 0.0]action=[5.0, 1.0]action=[5.0, 1.0]action=[5.0, 1.0]action=[10.0, 1.0]action=[10.0, 0.0]action=[5.0, 0.0]action=[5.0, 0.0]action=[5.0, 1.0]action=[0.0, 0.0]action=[0.0, 1.0]action=[0.0, -1.0]action=[5.0, 1.0]action=[0.0, 1.0]action=[0.0, 1.0]action=[0.0, 1.0]action=[0.0, 0.0]action=[0.0, 0.0]action=[5.0, 1.0]action=[0.0, -1.0]action=[10.0, -1.0]action=[10.0, 0.0]action=[0.0, -1.0]action=[0.0, 0.0]action=[0.0, 0.0]action=[10.0, 0.0]action=[5.0, 0.0]action=[5.0, 0.0]action=[10.0, 1.0]action=[10.0, -1.0]action=[10.0, 1.0]action=[10.0, -1.0]action=[10.0, 0.0]action=[10.0, 1.0]action=[10.0, -1.0]action=[10.0, -1.0]"
     ]
    }
   ],
   "source": [
    "# first seed the environment\n",
    "Random.seed!(40)\n",
    "\n",
    "# run the simulation\n",
    "c = @GtkCanvas()\n",
    "win = GtkWindow(c, \"Roomba Environment\", 600, 600)\n",
    "for (t, step) in enumerate(stepthrough(m, planner, belief_updater, max_steps=100))\n",
    "    @guarded draw(c) do widget\n",
    "        \n",
    "        # the following lines render the room, the particles, and the roomba\n",
    "        ctx = getgc(c)\n",
    "        set_source_rgb(ctx,1,1,1)\n",
    "        paint(ctx)\n",
    "        render(ctx, m, step)\n",
    "        \n",
    "        @printf(\"action=%s\", step.a)\n",
    "        # render some information that can help with debugging\n",
    "        # here, we render the time-step, the state, and the observation\n",
    "        move_to(ctx,300,400)\n",
    "        show_text(ctx, @sprintf(\"t=%d, state=%s, o=%.3f\",t,string(step.s),step.o))\n",
    "    end\n",
    "    show(c)\n",
    "    sleep(0.01) # to slow down the simulation\n",
    "end"
   ]
  },
  {
   "cell_type": "markdown",
   "metadata": {},
   "source": [
    "### Specifying initial states and beliefs\n",
    "If, for debugging purposes, you would like to hard-code a starting location or initial belief state for the roomba, you can do so by taking the following steps.\n",
    "\n",
    "First, we define the initial state using the following line of code:\n",
    "```\n",
    "is = RoombaState(x,y,th,0.)\n",
    "```\n",
    "Where ```x``` and ```y``` are the x,y coordinates of the starting location and ```th``` is the heading in radians. The last entry, ```0.```, respresents whether the state is terminal, and should remain unchanged.\n",
    "\n",
    "If you would like to initialize the Roomba's belief as perfectly localized, you can do so with the following line of code:\n",
    "```\n",
    "b0 = Deterministic(is)\n",
    "```\n",
    "If you would like to initialize the standard unlocalized belief, use these lines:\n",
    "```\n",
    "dist = initialstate_distribution(m)\n",
    "b0 = initialize_belief(belief_updater, dist)\n",
    "```\n",
    "Finally, we call the ```stepthrough``` function using the initial state and belief as follows:\n",
    "```\n",
    "stepthrough(m,planner,belief_updater,b0,is,max_steps=300)\n",
    "```\n",
    "\n",
    "### Discretizing the state space\n",
    "Certain POMDP solution techniques require discretizing the state space. Should we need to do so, we first define the state space by specifying the number of points to discretize the range of possible x, y, and $\\theta$ values, and then calling the DiscreteRoombaStateSpace constructor.\n",
    "```\n",
    "num_x_pts = ... # e.g. 50\n",
    "num_y_pts = ... # e.g. 50\n",
    "num_th_pts = ... # e.g. 20\n",
    "sspace = DiscreteRoombaStateSpace(num_x_pts,num_y_pts,num_th_pts)\n",
    "```\n",
    "\n",
    "Next, we pass in the state space as an argument when constructing the POMDP.\n",
    "```\n",
    "m = RoombaPOMDP(sensor=sensor, mdp=RoombaMDP(config=config, sspace=sspace))\n",
    "```\n",
    "\n",
    "### Discretizing the action space\n",
    "Certain POMDP solution techniques require discretizing the action space. Should we need to do so, we first define the action space as follows:\n",
    "```\n",
    "vlist = [...]\n",
    "omlist = [...]\n",
    "aspace = vec(collect(RoombaAct(v, om) for v in vlist, om in omlist))\n",
    "```\n",
    "Where ```vlist``` is an array of possible values for the velocity (e.g. ```[0,1,10]```) and ```omlist``` is an array of possible turn-rates (e.g. ```[-1,0,1]```).\n",
    "\n",
    "Next, we pass in the action space as an argument when constructing the POMDP.\n",
    "```\n",
    "m = RoombaPOMDP(sensor=sensor, mdp=RoombaMDP(config=config, aspace=aspace))\n",
    "```\n",
    "\n",
    "### Discretizing the Lidar observation space\n",
    "Certain POMDP solution techniques require discretizing the observation space. The Bumper sensor has a discrete observation space by default, while the Lidar sensor is continuous by default. The observations can take values in the range $[0,\\infty)$. Should we need to do discretize the Lidar observation space, we first define cut-points $x_{1:K}$ such that all observations between $-\\infty$ and $x_1$ are considered the discrete observation 1, all observations between $x_1$ and $x_2$ are considered discrete observation 2, and so on. All observations between $x_K$ and $\\infty$ are considered discrete observation $K+1$. We instantiate the discretized sensor as follows:\n",
    "```\n",
    "cut_points = [x_1, x_2, ..., x_K]\n",
    "sensor = DiscreteLidar(cut_points)\n",
    "```\n",
    "Next, we pass in the sensor as an argument when constructing the POMDP as usual.\n",
    "```\n",
    "m = RoombaPOMDP(sensor=sensor, mdp=RoombaMDP(config=config))\n",
    "```\n",
    "\n",
    "\n",
    "\n",
    "\n"
   ]
  },
  {
   "cell_type": "markdown",
   "metadata": {},
   "source": [
    "### Evaluation \n",
    "\n",
    "Here, we demonstate a simple evaluation of the policy's performance for a few random seeds. This is meant to serve only as an example, and we encourage you to develop your own evaluation metrics.\n",
    "\n",
    "We intialize the robot using five different random seeds, and simulate its performance for 100 time-steps. We then sum the rewards experienced during its interaction with the environment and track this total reward for the five trials.\n",
    "Finally, we report the mean and standard error for the total reward. The standard error is the standard deviation of a sample set divided by the square root of the number of samples, and represents the uncertainty in the estimate of the mean value."
   ]
  },
  {
   "cell_type": "code",
   "execution_count": 27,
   "metadata": {},
   "outputs": [
    {
     "name": "stdout",
     "output_type": "stream",
     "text": [
      "Experience: 1 Reward: 0.0\n",
      "Experience: 2 Reward: 3.200000000000003\n",
      "Experience: 3 Reward: -0.6999999999999975\n",
      "Experience: 4 Reward: 6.1\n",
      "Experience: 5 Reward: 2.8\n",
      "Experience: 6 Reward: 2.700000000000003\n",
      "Experience: 7 Reward: -4.8000000000000025\n",
      "Experience: 8 Reward: -0.4999999999999982\n",
      "Experience: 9 Reward: 2.0000000000000036\n",
      "Experience: 10 Reward: 0.7000000000000028\n",
      "Experience: 11 Reward: 4.500000000000002\n",
      "Experience: 12 Reward: -18.000000000000004\n",
      "Experience: 13 Reward: 9.9\n",
      "Experience: 14 Reward: -4.399999999999999\n",
      "Experience: 15 Reward: -15.0\n",
      "Experience: 16 Reward: 5.3999999999999995\n",
      "Experience: 17 Reward: 1.2000000000000046\n",
      "Experience: 18 Reward: 6.4\n",
      "Experience: 19 Reward: -1.1999999999999975\n",
      "Experience: 20 Reward: -2.299999999999999\n",
      "Experience: 21 Reward: 2.1000000000000014\n",
      "Experience: 22 Reward: 1.700000000000001\n",
      "Experience: 23 Reward: 1.3000000000000007\n",
      "Experience: 24 Reward: 8.4\n",
      "Experience: 25 Reward: -0.09999999999999964\n",
      "Experience: 26 Reward: -11.2\n",
      "Experience: 27 Reward: -13.2\n",
      "Experience: 28 Reward: -0.4999999999999982\n",
      "Experience: 29 Reward: -11.4\n",
      "Experience: 30 Reward: 0.6000000000000032\n",
      "Experience: 31 Reward: -0.29999999999999716\n",
      "Experience: 32 Reward: 7.699999999999999\n",
      "Experience: 33 Reward: 2.3000000000000043\n",
      "Experience: 34 Reward: -17.000000000000007\n",
      "Experience: 35 Reward: 0.6000000000000032\n",
      "Experience: 36 Reward: 0.20000000000000462\n",
      "Experience: 37 Reward: -0.5999999999999979\n",
      "Experience: 38 Reward: 6.0\n",
      "Experience: 39 Reward: -13.0\n",
      "Experience: 40 Reward: 1.6000000000000032\n",
      "Experience: 41 Reward: -2.399999999999995\n",
      "Experience: 42 Reward: 3.7000000000000046\n",
      "Experience: 43 Reward: 0.5000000000000018\n",
      "Experience: 44 Reward: 7.3\n",
      "Experience: 45 Reward: 3.8000000000000007\n",
      "Experience: 46 Reward: 5.0\n",
      "Experience: 47 Reward: 7.7\n",
      "Experience: 48 Reward: -1.6999999999999975\n",
      "Experience: 49 Reward: -2.9999999999999964\n",
      "Experience: 50 Reward: 8.8\n",
      "Mean Total Reward: -0.142, StdErr Total Reward: 2.988"
     ]
    }
   ],
   "source": [
    "using Statistics\n",
    "\n",
    "total_rewards = []\n",
    "\n",
    "for exp = 1:50\n",
    "    \n",
    "    Random.seed!(exp)\n",
    "    \n",
    "    traj_rewards = sum([step.r for step in stepthrough(m, planner, belief_updater, max_steps=100)])\n",
    "    \n",
    "    println(\"Experience: \", string(exp), \" Reward: \", traj_rewards)\n",
    "\n",
    "    push!(total_rewards, traj_rewards)\n",
    "end\n",
    "\n",
    "@printf(\"Mean Total Reward: %.3f, StdErr Total Reward: %.3f\", mean(total_rewards), std(total_rewards)/sqrt(5))"
   ]
  },
  {
   "cell_type": "code",
   "execution_count": null,
   "metadata": {},
   "outputs": [],
   "source": []
  }
 ],
 "metadata": {
  "@webio": {
   "lastCommId": "b95e7bf12be34538815cad0821367390",
   "lastKernelId": "8547ae3a-4dff-4d1f-ab82-5333a5678eec"
  },
  "kernelspec": {
   "display_name": "Julia 1.0.2",
   "language": "julia",
   "name": "julia-1.0"
  },
  "language_info": {
   "file_extension": ".jl",
   "mimetype": "application/julia",
   "name": "julia",
   "version": "1.0.2"
  }
 },
 "nbformat": 4,
 "nbformat_minor": 1
}
