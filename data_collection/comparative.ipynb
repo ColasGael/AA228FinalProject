{
 "cells": [
  {
   "cell_type": "code",
   "execution_count": 16,
   "metadata": {},
   "outputs": [
    {
     "name": "stdout",
     "output_type": "stream",
     "text": [
      "    Experience  Reward  Reward  Reward  Reward\n",
      "0            1   -12.0   -17.0   -12.0     0.0\n",
      "1            2     4.9     2.7   -12.0     3.2\n",
      "2            3   -11.0   -12.0     6.3    -0.7\n",
      "3            4     4.6     2.5   -11.0     6.1\n",
      "4            5     4.7     2.9   -11.0     2.8\n",
      "5            6     3.6   -17.0     4.8     2.7\n",
      "6            7     4.3     2.8   -12.0    -4.8\n",
      "7            8   -13.9   -17.0   -12.0    -0.5\n",
      "8            9     4.1   -17.0     8.0     2.0\n",
      "9           10   -12.0   -19.4   -12.0     0.7\n",
      "10          11   -15.2   -17.0     5.6     4.5\n",
      "11          12   -11.0   -17.0   -12.0   -18.0\n",
      "12          13     3.4    -4.6     9.9     9.9\n",
      "13          14   -11.0   -19.2   -12.0    -4.4\n",
      "14          15     5.7     8.2   -12.0   -15.0\n",
      "15          16     4.4   -17.0   -13.0     5.4\n",
      "16          17   -14.2   -17.0   -11.0     1.2\n",
      "17          18     6.2   -14.7     3.5     6.4\n",
      "18          19     4.4   -17.0     4.6    -1.2\n",
      "19          20     5.3    -3.5   -12.0    -2.3\n",
      "20          21   -17.1   -17.0   -12.0     2.1\n",
      "21          22   -15.6    -3.4   -11.0     1.7\n",
      "22          23   -11.0   -15.0   -11.0     1.3\n",
      "23          24     6.3     8.8   -11.5     8.4\n",
      "24          25     5.1    -0.6   -11.0    -0.1\n",
      "25          26   -11.0     8.8     8.8   -11.2\n",
      "26          27   -11.0     8.9   -15.7   -13.2\n",
      "27          28   -11.0   -17.0   -12.0    -0.5\n",
      "28          29   -11.0   -11.2   -11.1   -11.4\n",
      "29          30   -11.0   -17.0   -11.0     0.6\n",
      "30          31   -11.0   -18.0   -12.0    -0.3\n",
      "31          32   -18.0     4.0   -12.0     7.7\n",
      "32          33     5.5     0.4     8.4     2.3\n",
      "33          34   -11.0    -3.3   -12.0   -17.0\n",
      "34          35     4.2     2.9     3.0     0.6\n",
      "35          36     4.7   -17.0   -12.0     0.2\n",
      "36          37     5.3     7.8   -13.5    -0.6\n",
      "37          38     6.3     5.5     3.4     6.0\n",
      "38          39   -11.0   -16.0   -12.0   -13.0\n",
      "39          40   -15.0    -4.2     6.1     1.6\n",
      "40          41     5.4   -16.0   -12.0    -2.4\n",
      "41          42   -11.0   -17.0   -12.0     3.7\n",
      "42          43     4.8   -17.0   -12.0     0.5\n",
      "43          44   -11.0   -17.0   -11.0     7.3\n",
      "44          45     3.7    -1.6   -12.0     3.8\n",
      "45          46     6.1     8.6   -11.6     5.0\n",
      "46          47   -19.0   -16.0     7.1     7.7\n",
      "47          48     5.5    -2.2     6.3    -1.7\n",
      "48          49   -18.7   -16.0   -11.0    -3.0\n",
      "49          50     6.3   -11.3   -11.3     8.8\n"
     ]
    }
   ],
   "source": [
    "import pandas as pd\n",
    "\n",
    "lidar = \"lidar.csv\"\n",
    "baseline = \"baseline.csv\"\n",
    "MCTS_vanilla = \"mcts_vanilla.csv\"\n",
    "MCTS_QMDP = \"mcts_qmdp.csv\"\n",
    "\n",
    "path = \"/home/zhangvwk/Documents/Stanford/aa228/final_project/AA228FinalProject/data_collection/\"\n",
    "\n",
    "df_lidar = pd.read_csv(path + lidar)\n",
    "df_baseline = pd.read_csv(path + baseline)[\"Reward\"]\n",
    "df_MCTS_vanilla = pd.read_csv(path + MCTS_vanilla)[\"Reward\"]\n",
    "df_MCTS_QMDP = pd.read_csv(path + MCTS_QMDP)[\"Reward\"]\n",
    "\n",
    "frames = [df_lidar, df_baseline, df_MCTS_vanilla, df_MCTS_QMDP]\n",
    "result = pd.concat(frames, axis=1)\n",
    "print(result)\n",
    "\n",
    "for row "
   ]
  },
  {
   "cell_type": "code",
   "execution_count": null,
   "metadata": {},
   "outputs": [],
   "source": []
  }
 ],
 "metadata": {
  "kernelspec": {
   "display_name": "Python 3",
   "language": "python",
   "name": "python3"
  },
  "language_info": {
   "codemirror_mode": {
    "name": "ipython",
    "version": 3
   },
   "file_extension": ".py",
   "mimetype": "text/x-python",
   "name": "python",
   "nbconvert_exporter": "python",
   "pygments_lexer": "ipython3",
   "version": "3.5.2"
  }
 },
 "nbformat": 4,
 "nbformat_minor": 2
}
