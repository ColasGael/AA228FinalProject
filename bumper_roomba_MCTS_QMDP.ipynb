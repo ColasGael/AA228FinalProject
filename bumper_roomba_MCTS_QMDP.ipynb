{
 "cells": [
  {
   "cell_type": "markdown",
   "metadata": {},
   "source": [
    "# AA228/CS238 Optional Final Project: Escape Roomba\n",
    "\n",
    "This notebook tests the QMDP + Monte Carlo Tree Search implementation"
   ]
  },
  {
   "cell_type": "code",
   "execution_count": 1,
   "metadata": {},
   "outputs": [
    {
     "data": {
      "text/plain": [
       "\"/home/colasg/Documents/AA228FinalProject/Project.toml\""
      ]
     },
     "execution_count": 1,
     "metadata": {},
     "output_type": "execute_result"
    }
   ],
   "source": [
    "# activate project environment\n",
    "# include these lines of code in any future scripts/notebooks\n",
    "#---\n",
    "import Pkg\n",
    "if !haskey(Pkg.installed(), \"AA228FinalProject\")\n",
    "    jenv = joinpath(dirname(@__FILE__()), \".\") # this assumes the notebook is in the same dir\n",
    "    # as the Project.toml file, which should be in top level dir of the project. \n",
    "    # Change accordingly if this is not the case.\n",
    "    Pkg.activate(jenv)\n",
    "end\n",
    "#---"
   ]
  },
  {
   "cell_type": "code",
   "execution_count": 3,
   "metadata": {},
   "outputs": [],
   "source": [
    "# import necessary packages\n",
    "using AA228FinalProject\n",
    "using POMDPs\n",
    "using POMDPPolicies\n",
    "using BeliefUpdaters\n",
    "using ParticleFilters\n",
    "using POMDPSimulators\n",
    "using BasicPOMCP\n",
    "using Cairo\n",
    "using Gtk\n",
    "using Random\n",
    "using Statistics # to evaluate policy\n",
    "using Printf\n",
    "using JLD # to save alpha vectors"
   ]
  },
  {
   "cell_type": "markdown",
   "metadata": {},
   "source": [
    "## Define the POMDP\n",
    "\n",
    "### Create state space, action space, sensor and construct POMDP\n",
    "\n",
    "The QMDP offline method compute 1 alpha vector $\\alpha_a$ per action, with components $\\alpha_a(s)$ for $s \\in \\mathcal{S}, a \\in \\mathcal{A}$\n",
    "\n",
    "This methods only works with finite state and action spaces, we first define the discretization/\n",
    "\n",
    "Then we instantiate a Bump sensor. The Bumper indicates when contact has been made between any part of the Roomba and any wall.\n",
    "\n",
    "Next, we instantiate the MDP, which defines the underlying simulation environment, assuming full observability. The MDP takes many arguments to specify details of the problem. One argument we must specify here is the ```config```. This argument, which can take values 1,2, or 3, specifies the room configuration, with each configuration corresponding to a different location for the goal and stairs.\n",
    "\n",
    "Finally, we instantiate the POMDP. The POMDP takes as an argument the underlying MDP as well as the sensor, which it uses to define the observation model. "
   ]
  },
  {
   "cell_type": "code",
   "execution_count": 4,
   "metadata": {},
   "outputs": [],
   "source": [
    "# discrete state space\n",
    "num_x_pts = 50\n",
    "num_y_pts = 50\n",
    "num_th_pts = 20\n",
    "sspace = DiscreteRoombaStateSpace(num_x_pts,num_y_pts,num_th_pts);"
   ]
  },
  {
   "cell_type": "code",
   "execution_count": 5,
   "metadata": {},
   "outputs": [],
   "source": [
    "# discrete action space\n",
    "vlist = [0, 5, 10]\n",
    "omlist = [-1, 0, 1]\n",
    "aspace = vec(collect(RoombaAct(v, om) for v in vlist, om in omlist));"
   ]
  },
  {
   "cell_type": "code",
   "execution_count": 6,
   "metadata": {},
   "outputs": [
    {
     "name": "stdout",
     "output_type": "stream",
     "text": [
      "Number of discrete states:150000\n",
      "Number of discrete actions:9\n"
     ]
    }
   ],
   "source": [
    "sensor = Bumper()\n",
    "config = 1 # 1,2, or 3\n",
    "m = RoombaPOMDP(sensor=sensor, mdp=RoombaMDP(config=config, sspace=sspace, aspace=aspace));\n",
    "println(\"Number of discrete states:\", n_states(m))\n",
    "println(\"Number of discrete actions:\", n_actions(m))"
   ]
  },
  {
   "cell_type": "markdown",
   "metadata": {},
   "source": [
    "### Setting up a Particle Filter\n",
    "\n",
    "Here, as the state space is high dimensional, we instantiate a particle filter.\n",
    "\n",
    "First, we instantiate a resampler, which is responsible for updating the belief state given an observation. The first argument for both resamplers is the number of particles that represent the belief state. The lidar resampler takes a low-variance resampler as an additional argument, which is responsible for efficiently resampling a weighted set of particles. \n",
    "\n",
    "Next, we instantiate a ```SimpleParticleFilter```, which enables us to perform our belief updates.\n",
    "\n",
    "Finally, we pass this particle filter into a custom struct called a ```RoombaParticleFilter```, which takes two additional arguments. These arguments specify the noise in the velocity and turn-rate, used when propegating particles according to the action taken. These can be tuned depending on the type of sensor used."
   ]
  },
  {
   "cell_type": "code",
   "execution_count": 7,
   "metadata": {},
   "outputs": [],
   "source": [
    "num_particles = 5000\n",
    "resampler = BumperResampler(num_particles)\n",
    "\n",
    "spf = SimpleParticleFilter(m, resampler)\n",
    "\n",
    "v_noise_coefficient = 2.0\n",
    "om_noise_coefficient = 0.5\n",
    "\n",
    "belief_updater = RoombaParticleFilter(spf, v_noise_coefficient, om_noise_coefficient);"
   ]
  },
  {
   "cell_type": "markdown",
   "metadata": {},
   "source": [
    "## Solve the POMDP"
   ]
  },
  {
   "cell_type": "markdown",
   "metadata": {},
   "source": [
    "### Load the QMDP alpha vectors"
   ]
  },
  {
   "cell_type": "code",
   "execution_count": 8,
   "metadata": {},
   "outputs": [],
   "source": [
    "QMDP_alphas = load(\"QMDP_alphas.jld\")[\"QMDP_alphas\"];"
   ]
  },
  {
   "cell_type": "markdown",
   "metadata": {},
   "source": [
    "### Define a policy : Monte Carlo Search Tree\n",
    "\n",
    "First we create a struct that subtypes the Policy abstract type, defined in the package ```POMDPPolicies.jl```. Here, we can also define certain parameters, such as a variable defining the depth 'd'.\n",
    "\n",
    "Next, we define a function that can take in our policy and the belief state and return the desired action. We do this by defining a new ```POMDPs.action``` function that will work with our policy. "
   ]
  },
  {
   "cell_type": "code",
   "execution_count": 10,
   "metadata": {},
   "outputs": [],
   "source": [
    "# use QMDP alphas as a starting heuristic\n",
    "struct QMDPHeuristic <: Policy\n",
    "    alphas::Array{Array{Float64,1},1} # store the alpha vectors\n",
    "end\n",
    "\n",
    "# define what the policy actually does in POMDPs.action : note this is a function of state, not belief\n",
    "function POMDPs.action(p::QMDPHeuristic, s::RoombaState) \n",
    "    k = stateindex(m, s)\n",
    "    # find the action associated with the highest alpha vector value in state s\n",
    "    idx = findmax([p.alphas[i][k] for i in 1:length(actions(m))])[2]\n",
    "    a = actions(m)[idx]\n",
    "    return a # this may need to be different for discrete actions?\n",
    "end\n",
    "\n",
    "# QMDP heuristic policy\n",
    "p = QMDPHeuristic(QMDP_alphas)\n",
    "\n",
    "# MC started with Random heuristic\n",
    "#solver = POMCPSolver()\n",
    "# MC started with QMDP heuristic\n",
    "solver = POMCPSolver(estimate_value=FORollout(p))\n",
    "\n",
    "# corresponding policy\n",
    "planner = solve(solver, m);\n"
   ]
  },
  {
   "cell_type": "markdown",
   "metadata": {},
   "source": [
    "### Simulation and rendering\n",
    "\n",
    "Here, we will demonstrate how to seed the environment, run a simulation, and render the simulation. To render the simulation, we use the ```Gtk``` package. \n",
    "\n",
    "The simulation is carried out using the ```stepthrough``` function defined in the package ```POMDPSimulators.jl```. During a simulation, a window will open that renders the scene. It may be hidden behind other windows on your desktop."
   ]
  },
  {
   "cell_type": "code",
   "execution_count": 17,
   "metadata": {},
   "outputs": [
    {
     "name": "stdout",
     "output_type": "stream",
     "text": [
      "Time: 2 Variance:[0.272878, 0.273344, 0.307988, 0.0]0.854209718366848\n",
      "Time: 3 Variance:[0.272878, 0.273344, 0.30797, 0.0]0.8541914089354211\n",
      "Time: 4 Variance:[0.272878, 0.273344, 0.305867, 0.0]0.8520879728224384\n",
      "Time: 5 Variance:[0.272878, 0.273344, 0.305793, 0.0]0.8520141901536573\n",
      "Time: 6 Variance:[0.272878, 0.273344, 0.305753, 0.0]0.8519739540348571\n",
      "Time: 7 Variance:[0.272878, 0.273344, 0.302867, 0.0]0.8490885058943773\n",
      "Time: 8 Variance:[0.272878, 0.273344, 0.300476, 0.0]0.8466974867544068\n",
      "Time: 9 Variance:[0.272878, 0.273344, 0.300356, 0.0]0.8465778761423972\n",
      "Time: 10 Variance:[0.272878, 0.273344, 0.301411, 0.0]0.8476320859549853\n",
      "Time: 11 Variance:[0.271107, 0.269059, 0.304815, 0.0]0.8449808994758743\n",
      "Time: 12 Variance:[0.271107, 0.269059, 0.304839, 0.0]0.845004841052792\n",
      "Time: 13 Variance:[0.268354, 0.261814, 0.309464, 0.0]0.8396317886719785\n",
      "Time: 14 Variance:[0.306998, 0.330953, 0.304633, 0.231571]1.1741552386257552\n",
      "Time: 15 Variance:[0.284478, 0.341959, 0.316308, 0.104708]1.0474528371440575\n",
      "Time: 16 Variance:[0.279, 0.343454, 0.314653, 0.0547744]0.991881165432033\n",
      "Time: 17 Variance:[0.277537, 0.343849, 0.312566, 0.02449]0.958442128654994\n",
      "Time: 18 Variance:[0.279444, 0.337726, 0.34064, 0.0]0.9578107755912519\n",
      "Time: 19 Variance:[0.270046, 0.286747, 0.276038, 0.0]0.8328311906486519\n",
      "Time: 20 Variance:[0.270046, 0.286747, 0.277447, 0.0]0.8342402576598954\n",
      "Time: 21 Variance:[0.270046, 0.286747, 0.272247, 0.0]0.829040499354292\n",
      "Time: 22 Variance:[0.270046, 0.286747, 0.267392, 0.0]0.8241859204314856\n",
      "Time: 23 Variance:[0.270046, 0.286747, 0.267414, 0.0]0.8242076817039915\n",
      "Time: 24 Variance:[0.270046, 0.286747, 0.2674, 0.0]0.8241930232637202\n",
      "Time: 25 Variance:[0.260365, 0.251427, 0.272804, 0.0]0.7845964698733477\n",
      "Time: 26 Variance:[0.310559, 0.347647, 0.268537, 0.303151]1.2298952215582373\n",
      "Time: 27 Variance:[0.269103, 0.362992, 0.273964, 0.178903]1.0849624543147112\n",
      "Time: 28 Variance:[0.25188, 0.368352, 0.26661, 0.0]0.8868419808622796\n",
      "Time: 29 Variance:[0.266306, 0.22172, 0.214901, 0.0]0.7029264272170809\n",
      "Time: 30 Variance:[0.266306, 0.22172, 0.230545, 0.0]0.7185702431742104\n",
      "Time: 31 Variance:[0.266306, 0.22172, 0.238779, 0.0]0.7268042520026056\n",
      "Time: 32 Variance:[0.266306, 0.22172, 0.230419, 0.0]0.71844423886225\n",
      "Time: 33 Variance:[0.335385, 0.324781, 0.211151, 0.35752]1.2288366862264852\n",
      "Time: 34 Variance:[0.293912, 0.345964, 0.223674, 0.223821]1.087371629760147\n",
      "Time: 35 Variance:[0.276236, 0.356274, 0.231267, 0.0423924]0.9061697918549363\n",
      "Time: 36 Variance:[0.287014, 0.38057, 0.235332, 0.160338]1.0632529724874844\n",
      "Time: 37 Variance:[0.311055, 0.450261, 0.252541, 0.253139]1.2669955212604032\n",
      "Time: 38 Variance:[0.286414, 0.472614, 0.292326, 0.200152]1.2515059827474875\n",
      "Time: 39 Variance:[0.160498, 0.362455, 0.206227, 0.0]0.7291797157790145\n",
      "Time: 40 Variance:[0.137576, 0.204401, 0.155586, 0.0]0.4975640221973612\n",
      "Time: 41 Variance:[0.220977, 0.265944, 0.244485, 0.15362]0.8850263971310589\n",
      "Time: 42 Variance:[0.211393, 0.266558, 0.258345, 0.0316253]0.7679216231021528\n",
      "Time: 43 Variance:[0.214367, 0.273089, 0.266345, 0.0244965]0.7782972760788048\n",
      "Time: 44 Variance:[0.213173, 0.274472, 0.26757, 0.0282843]0.7834996166873975\n",
      "Time: 45 Variance:[0.114186, 0.049581, 0.110098, 0.0]0.27386509994786723\n",
      "Time: 46 Variance:[0.111508, 0.0661928, 0.104645, 0.0]0.2823458111519006\n",
      "Time: 47 Variance:[0.122368, 0.0893464, 0.0972418, 0.0]0.3089566274633545\n",
      "Time: 48 Variance:[0.141299, 0.0842038, 0.0794535, 0.282741]0.5876969091459188\n",
      "Time: 49 Variance:[0.150259, 0.072926, 0.0815145, 0.3287]0.6333993624097737\n",
      "Time: 50 Variance:[0.169182, 0.0582916, 0.0849924, 0.476447]0.788913673933941\n"
     ]
    }
   ],
   "source": [
    "# first seed the environment\n",
    "Random.seed!(1)\n",
    "\n",
    "# run the simulation\n",
    "c = @GtkCanvas()\n",
    "win = GtkWindow(c, \"Roomba Environment\", 600, 600)\n",
    "for (t, step) in enumerate(stepthrough(m, planner, belief_updater, max_steps=100))\n",
    "    @guarded draw(c) do widget\n",
    "        \n",
    "        # the following lines render the room, the particles, and the roomba\n",
    "        ctx = getgc(c)\n",
    "        set_source_rgb(ctx,1,1,1)\n",
    "        paint(ctx)\n",
    "        render(ctx, m, step)\n",
    "\n",
    "        std_pos = std(particles(step.b)) ./ [40., 20., 6., 1.] \n",
    "        println(\"Time: \", t, \" Variance:\", std_pos, sum(std_pos))\n",
    "        \n",
    "        # render some information that can help with debugging\n",
    "        # here, we render the time-step, the state, and the observation\n",
    "        move_to(ctx,300,400)\n",
    "        show_text(ctx, @sprintf(\"t=%d, s=%s, o=%.3f, a=%s\",t,string(step.s),step.o, string(step.a)))\n",
    "    end\n",
    "    show(c)\n",
    "    sleep(0.01) # to slow down the simulation\n",
    "end"
   ]
  },
  {
   "cell_type": "markdown",
   "metadata": {},
   "source": [
    "### Specifying initial states and beliefs\n",
    "If, for debugging purposes, you would like to hard-code a starting location or initial belief state for the roomba, you can do so by taking the following steps.\n",
    "\n",
    "First, we define the initial state using the following line of code:\n",
    "```\n",
    "is = RoombaState(x,y,th,0.)\n",
    "```\n",
    "Where ```x``` and ```y``` are the x,y coordinates of the starting location and ```th``` is the heading in radians. The last entry, ```0.```, respresents whether the state is terminal, and should remain unchanged.\n",
    "\n",
    "If you would like to initialize the Roomba's belief as perfectly localized, you can do so with the following line of code:\n",
    "```\n",
    "b0 = Deterministic(is)\n",
    "```\n",
    "If you would like to initialize the standard unlocalized belief, use these lines:\n",
    "```\n",
    "dist = initialstate_distribution(m)\n",
    "b0 = initialize_belief(belief_updater, dist)\n",
    "```\n",
    "Finally, we call the ```stepthrough``` function using the initial state and belief as follows:\n",
    "```\n",
    "stepthrough(m,planner,belief_updater,b0,is,max_steps=300)\n",
    "```"
   ]
  },
  {
   "cell_type": "markdown",
   "metadata": {},
   "source": [
    "### Evaluation \n",
    "\n",
    "Here, we demonstate a simple evaluation of the policy's performance for a few random seeds. This is meant to serve only as an example, and we encourage you to develop your own evaluation metrics.\n",
    "\n",
    "We intialize the robot using five different random seeds, and simulate its performance for 100 time-steps. We then sum the rewards experienced during its interaction with the environment and track this total reward for the five trials.\n",
    "Finally, we report the mean and standard error for the total reward. The standard error is the standard deviation of a sample set divided by the square root of the number of samples, and represents the uncertainty in the estimate of the mean value."
   ]
  },
  {
   "cell_type": "code",
   "execution_count": 12,
   "metadata": {},
   "outputs": [
    {
     "name": "stdout",
     "output_type": "stream",
     "text": [
      "Experience: 1 Reward: 0.0\n",
      "Experience: 2 Reward: 3.200000000000003\n",
      "Experience: 3 Reward: -0.6999999999999975\n",
      "Experience: 4 Reward: 6.1\n",
      "Experience: 5 Reward: 2.8\n",
      "Experience: 6 Reward: 2.700000000000003\n",
      "Experience: 7 Reward: -4.8000000000000025\n",
      "Experience: 8 Reward: -0.4999999999999982\n",
      "Experience: 9 Reward: 2.0000000000000036\n",
      "Experience: 10 Reward: 0.7000000000000028\n",
      "Experience: 11 Reward: 4.500000000000002\n",
      "Experience: 12 Reward: -18.000000000000004\n",
      "Experience: 13 Reward: 9.9\n",
      "Experience: 14 Reward: -4.399999999999999\n",
      "Experience: 15 Reward: -15.0\n",
      "Experience: 16 Reward: 5.3999999999999995\n",
      "Experience: 17 Reward: 1.2000000000000046\n",
      "Experience: 18 Reward: 6.4\n",
      "Experience: 19 Reward: -1.1999999999999975\n",
      "Experience: 20 Reward: -2.299999999999999\n",
      "Experience: 21 Reward: 2.1000000000000014\n",
      "Experience: 22 Reward: 1.700000000000001\n",
      "Experience: 23 Reward: 1.3000000000000007\n",
      "Experience: 24 Reward: 8.4\n",
      "Experience: 25 Reward: -0.09999999999999964\n",
      "Experience: 26 Reward: -11.2\n",
      "Experience: 27 Reward: -13.2\n",
      "Experience: 28 Reward: -0.4999999999999982\n",
      "Experience: 29 Reward: -11.4\n",
      "Experience: 30 Reward: 0.6000000000000032\n",
      "Experience: 31 Reward: -0.29999999999999716\n",
      "Experience: 32 Reward: 7.699999999999999\n",
      "Experience: 33 Reward: 2.3000000000000043\n",
      "Experience: 34 Reward: -17.000000000000007\n",
      "Experience: 35 Reward: 0.6000000000000032\n",
      "Experience: 36 Reward: 0.20000000000000462\n",
      "Experience: 37 Reward: -0.5999999999999979\n",
      "Experience: 38 Reward: 6.0\n",
      "Experience: 39 Reward: -13.0\n",
      "Experience: 40 Reward: 1.6000000000000032\n",
      "Experience: 41 Reward: -2.399999999999995\n",
      "Experience: 42 Reward: 3.7000000000000046\n",
      "Experience: 43 Reward: 0.5000000000000018\n",
      "Experience: 44 Reward: 7.3\n",
      "Experience: 45 Reward: 3.8000000000000007\n",
      "Experience: 46 Reward: 5.0\n",
      "Experience: 47 Reward: 7.7\n",
      "Experience: 48 Reward: -1.6999999999999975\n",
      "Experience: 49 Reward: -2.9999999999999964\n",
      "Experience: 50 Reward: 8.8\n",
      "Mean Total Reward: -0.142, StdErr Total Reward: 2.988"
     ]
    }
   ],
   "source": [
    "total_rewards = []\n",
    "\n",
    "for exp = 1:50\n",
    "    \n",
    "    Random.seed!(exp)\n",
    "    \n",
    "    traj_rewards = sum([step.r for step in stepthrough(m, planner, belief_updater, max_steps=100)])\n",
    "    \n",
    "    println(\"Experience: \", string(exp), \" Reward: \", traj_rewards)\n",
    "\n",
    "    push!(total_rewards, traj_rewards)\n",
    "end\n",
    "\n",
    "@printf(\"Mean Total Reward: %.3f, StdErr Total Reward: %.3f\", mean(total_rewards), std(total_rewards)/sqrt(5))"
   ]
  },
  {
   "cell_type": "code",
   "execution_count": null,
   "metadata": {},
   "outputs": [],
   "source": []
  }
 ],
 "metadata": {
  "@webio": {
   "lastCommId": "597e9454676940c7a10616e732377653",
   "lastKernelId": "8e4cb2f6-6ff9-4dc9-b95b-5e7dba722782"
  },
  "kernelspec": {
   "display_name": "Julia 1.0.2",
   "language": "julia",
   "name": "julia-1.0"
  },
  "language_info": {
   "file_extension": ".jl",
   "mimetype": "application/julia",
   "name": "julia",
   "version": "1.0.2"
  }
 },
 "nbformat": 4,
 "nbformat_minor": 1
}
