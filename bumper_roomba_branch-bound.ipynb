{
 "cells": [
  {
   "cell_type": "markdown",
   "metadata": {},
   "source": [
    "# AA228/CS238 Optional Final Project: Escape Roomba\n",
    "\n",
    "This notebook tests the QMDP + Branch & Bound implementation"
   ]
  },
  {
   "cell_type": "code",
   "execution_count": 1,
   "metadata": {},
   "outputs": [
    {
     "data": {
      "text/plain": [
       "\"/home/colasg/Documents/AA228FinalProject/Project.toml\""
      ]
     },
     "execution_count": 1,
     "metadata": {},
     "output_type": "execute_result"
    }
   ],
   "source": [
    "# activate project environment\n",
    "# include these lines of code in any future scripts/notebooks\n",
    "#---\n",
    "import Pkg\n",
    "if !haskey(Pkg.installed(), \"AA228FinalProject\")\n",
    "    jenv = joinpath(dirname(@__FILE__()), \".\") # this assumes the notebook is in the same dir\n",
    "    # as the Project.toml file, which should be in top level dir of the project. \n",
    "    # Change accordingly if this is not the case.\n",
    "    Pkg.activate(jenv)\n",
    "end\n",
    "#---"
   ]
  },
  {
   "cell_type": "code",
   "execution_count": 2,
   "metadata": {},
   "outputs": [],
   "source": [
    "# import necessary packages\n",
    "using AA228FinalProject\n",
    "using POMDPs\n",
    "using POMDPPolicies\n",
    "using BeliefUpdaters\n",
    "using ParticleFilters\n",
    "using POMDPSimulators\n",
    "using Cairo\n",
    "using Gtk\n",
    "using Random\n",
    "using Printf"
   ]
  },
  {
   "cell_type": "code",
   "execution_count": 3,
   "metadata": {},
   "outputs": [
    {
     "name": "stderr",
     "output_type": "stream",
     "text": [
      "┌ Info: Precompiling FIB [13b007ba-0ca8-5af2-9adf-bc6a6301e25a]\n",
      "└ @ Base loading.jl:1192\n"
     ]
    }
   ],
   "source": [
    "# useful solvers\n",
    "using QMDP\n",
    "using FIB"
   ]
  },
  {
   "cell_type": "markdown",
   "metadata": {},
   "source": [
    "## Define the POMDP\n",
    "\n",
    "### Create state space, action space, sensor and construct POMDP\n",
    "\n",
    "The QMDP offline method compute 1 alpha vector $\\alpha_a$ per action, with components $\\alpha_a(s)$ for $s \\in \\mathcal{S}, a \\in \\mathcal{A}$\n",
    "\n",
    "This methods only works with finite state and action spaces, we first define the discretization\n",
    "\n",
    "Then we instantiate a Bump sensor. The Bumper indicates when contact has been made between any part of the Roomba and any wall.\n",
    "\n",
    "Next, we instantiate the MDP, which defines the underlying simulation environment, assuming full observability. The MDP takes many arguments to specify details of the problem. One argument we must specify here is the ```config```. This argument, which can take values 1,2, or 3, specifies the room configuration, with each configuration corresponding to a different location for the goal and stairs.\n",
    "\n",
    "Finally, we instantiate the POMDP. The POMDP takes as an argument the underlying MDP as well as the sensor, which it uses to define the observation model. "
   ]
  },
  {
   "cell_type": "code",
   "execution_count": 4,
   "metadata": {},
   "outputs": [],
   "source": [
    "# discrete state space\n",
    "num_x_pts = 50\n",
    "num_y_pts = 50\n",
    "num_th_pts = 20\n",
    "sspace = DiscreteRoombaStateSpace(num_x_pts,num_y_pts,num_th_pts);"
   ]
  },
  {
   "cell_type": "code",
   "execution_count": 5,
   "metadata": {},
   "outputs": [],
   "source": [
    "# discrete action space\n",
    "vlist = [0, 5, 10]\n",
    "omlist = [-1, 0, 1]\n",
    "aspace = vec(collect(RoombaAct(v, om) for v in vlist, om in omlist));"
   ]
  },
  {
   "cell_type": "code",
   "execution_count": 6,
   "metadata": {},
   "outputs": [
    {
     "name": "stdout",
     "output_type": "stream",
     "text": [
      "Number of discrete states:150000\n",
      "Number of discrete actions:9\n"
     ]
    }
   ],
   "source": [
    "sensor = Bumper()\n",
    "config = 1 # 1,2, or 3\n",
    "m = RoombaPOMDP(sensor=sensor, mdp=RoombaMDP(config=config, sspace=sspace, aspace=aspace));\n",
    "\n",
    "println(\"Number of discrete states:\", n_states(m))\n",
    "println(\"Number of discrete actions:\", n_actions(m))"
   ]
  },
  {
   "cell_type": "markdown",
   "metadata": {},
   "source": [
    "### Setting up a Particle Filter\n",
    "\n",
    "Here, as the state space is high dimensional, we instantiate a particle filter.\n",
    "\n",
    "First, we instantiate a resampler, which is responsible for updating the belief state given an observation. The first argument for both resamplers is the number of particles that represent the belief state. The lidar resampler takes a low-variance resampler as an additional argument, which is responsible for efficiently resampling a weighted set of particles. \n",
    "\n",
    "Next, we instantiate a ```SimpleParticleFilter```, which enables us to perform our belief updates.\n",
    "\n",
    "Finally, we pass this particle filter into a custom struct called a ```RoombaParticleFilter```, which takes two additional arguments. These arguments specify the noise in the velocity and turn-rate, used when propegating particles according to the action taken. These can be tuned depending on the type of sensor used."
   ]
  },
  {
   "cell_type": "code",
   "execution_count": 7,
   "metadata": {},
   "outputs": [],
   "source": [
    "num_particles = 2000\n",
    "resampler = BumperResampler(num_particles)\n",
    "\n",
    "spf = SimpleParticleFilter(m, resampler)\n",
    "\n",
    "v_noise_coefficient = 2.0\n",
    "om_noise_coefficient = 0.5\n",
    "\n",
    "belief_updater = RoombaParticleFilter(spf, v_noise_coefficient, om_noise_coefficient);"
   ]
  },
  {
   "cell_type": "markdown",
   "metadata": {},
   "source": [
    "## Solve the POMDP"
   ]
  },
  {
   "cell_type": "markdown",
   "metadata": {},
   "source": [
    "### Compute an upper bound on the Value function : QMDP\n",
    "\n",
    "We use QMDP to compute one alpha vector $\\alpha_a, a \\in \\mathcal{A}$ per discrete action, over the discrete state space\n",
    "\n",
    "With the update rule :\n",
    "$\\alpha_a(s) = R(s,a) + \\gamma \\sum_{s'} T(s'|s, a) max_{a'} \\alpha_{a'}(s')$\n",
    "\n",
    "Here, we have a physical problem : we should have a deterministic $s' =$ POMDPs.transition$(m, s, a)$\n",
    "\n",
    "This is not exactly the case in our setup as we have some noise on the action $a = (v, \\omega)$\n",
    "\n",
    "But in our computation of QMDP upper bound, we will assume the transition is purely deterministic\n",
    "\n",
    "QMDP complexity: $\\mathcal{O}((|\\mathcal{S}| |\\mathcal{A}|^2)^{n_{iter}})$"
   ]
  },
  {
   "cell_type": "code",
   "execution_count": 11,
   "metadata": {
    "scrolled": true
   },
   "outputs": [],
   "source": [
    "function QMDPSolver_new(m::RoombaModel, max_iterations::Int64=20, tolerance::Float64=1e-3)\n",
    "    # mdp characteristics\n",
    "    sspace = states(m)\n",
    "    aspace = actions(m)\n",
    "    # initialize the alpha vectors to 0s\n",
    "    alphas = zeros(length(aspace), length(sspace))\n",
    "    # number of iterations\n",
    "    count = 1\n",
    "    # norm of difference between current and previous value of alphas\n",
    "    diff = Inf\n",
    "    while (count <= max_iterations) & (diff > tolerance) \n",
    "        println(\"Iteration:\", count, \"; Norm difference:\", diff)\n",
    "        alphas_prev = copy(alphas)\n",
    "        \n",
    "        # iterate over the alpha vectors\n",
    "        for (i, a) in enumerate(aspace)\n",
    "            # iterate over the states\n",
    "            for (j, s) in enumerate(sspace)\n",
    "                # compute the next (deterministic) state\n",
    "                sp = rand(transition(m, s, a))\n",
    "                k = stateindex(m, sp)\n",
    "                # update the alpha vectors (Value Iteration)\n",
    "                alphas[i,j] = reward(m, s, a, sp) + discount(m) * maximum(alphas[:,k])\n",
    "            end\n",
    "        end\n",
    "        count += 1\n",
    "        diff = sum((alphas - alphas_prev).^2)\n",
    "    end\n",
    "    \n",
    "    alphas_list = [alphas[i,:] for i in 1:length(aspace)]\n",
    "    return alphas_list\n",
    "    end;"
   ]
  },
  {
   "cell_type": "code",
   "execution_count": 12,
   "metadata": {
    "scrolled": false
   },
   "outputs": [
    {
     "name": "stdout",
     "output_type": "stream",
     "text": [
      "Iteration:1; Norm difference:Inf\n",
      "Iteration:2; Norm difference:3.183724858800983e6\n",
      "Iteration:3; Norm difference:1.3574782655136399e7\n",
      "Iteration:4; Norm difference:1.3268975301807234e7\n",
      "Iteration:5; Norm difference:7.518427998735629e6\n",
      "Iteration:6; Norm difference:2.961270808227142e6\n",
      "Iteration:7; Norm difference:1.7161620337213099e6\n",
      "Iteration:8; Norm difference:1.0556214814839358e6\n",
      "Iteration:9; Norm difference:766076.1744640518\n",
      "Iteration:10; Norm difference:537067.7009343696\n",
      "Iteration:11; Norm difference:380113.8589291355\n",
      "Iteration:12; Norm difference:270582.3839136329\n",
      "Iteration:13; Norm difference:193966.7443300216\n",
      "Iteration:14; Norm difference:141788.15559682992\n",
      "Iteration:15; Norm difference:105054.19855728638\n",
      "Iteration:16; Norm difference:77299.29281563724\n",
      "Iteration:17; Norm difference:57717.09181176967\n",
      "Iteration:18; Norm difference:43810.88489641569\n",
      "Iteration:19; Norm difference:32988.73429651757\n",
      "Iteration:20; Norm difference:25084.556878264102\n"
     ]
    },
    {
     "data": {
      "text/plain": [
       "9-element Array{Array{Float64,1},1}:\n",
       " [-1.28303, -1.28303, -1.28303, -1.28303, -1.28303, -1.28303, -1.28303, -1.28303, -1.28303, -1.28303  …  -1.28303, -1.28303, -1.28303, -1.28303, -1.28303, -1.28303, -1.28303, -1.28303, -1.28303, -1.28303]\n",
       " [-1.28303, -1.28303, -1.28303, -1.28303, -1.28303, -1.28303, -1.28303, -1.28303, -1.28303, -1.28303  …  -1.28303, -1.28303, -1.28303, -1.28303, -1.28303, -1.28303, -1.28303, -1.28303, -1.28303, -1.28303]\n",
       " [-1.28303, -1.28303, -1.28303, -1.28303, -1.28303, -1.28303, -1.28303, -1.28303, -1.28303, -1.28303  …  -1.28303, -1.28303, -1.28303, -1.28303, -1.28303, -1.28303, -1.28303, -1.28303, -1.28303, -1.28303]\n",
       " [-1.28303, -1.28303, -1.28303, -1.28303, -1.28303, -1.28303, -1.28303, -1.28303, -1.28303, -1.28303  …  -1.28303, -1.28303, -1.28303, -1.28303, -1.28303, -1.28303, -1.28303, -1.28303, -1.28303, -1.28303]\n",
       " [-1.28303, -1.28303, -1.28303, -1.28303, -1.28303, -1.28303, -1.28303, -1.28303, -1.28303, -1.28303  …  -1.28303, -1.28303, -1.28303, -1.28303, -1.28303, -1.28303, -1.28303, -1.28303, -1.28303, -1.28303]\n",
       " [-1.28303, -1.28303, -1.28303, -1.28303, -1.28303, -1.28303, -1.28303, -1.28303, -1.28303, -1.28303  …  -1.28303, -1.28303, -1.28303, -1.28303, -1.28303, -1.28303, -1.28303, -1.28303, -1.28303, -1.28303]\n",
       " [-1.28303, -1.28303, -1.28303, -1.28303, -1.28303, -1.28303, -1.28303, -1.28303, -1.28303, -1.28303  …  -1.31888, -1.31888, -1.31888, -1.31888, -1.31888, -1.31888, -1.31888, -1.31888, -1.31888, -1.31888]\n",
       " [-1.31888, -1.31888, -1.31888, -1.31888, -1.31888, -1.31888, -1.31888, -1.31888, -1.31888, -1.31888  …  -1.31888, -1.31888, -1.31888, -1.31888, -1.31888, -1.31888, -1.31888, -1.31888, -1.31888, -1.31888]\n",
       " [-1.31888, -1.31888, -1.31888, -1.31888, -1.31888, -1.31888, -1.31888, -1.31888, -1.31888, -1.31888  …  -1.31888, -1.31888, -1.31888, -1.31888, -1.31888, -1.31888, -1.31888, -1.31888, -1.31888, -1.31888]"
      ]
     },
     "execution_count": 12,
     "metadata": {},
     "output_type": "execute_result"
    }
   ],
   "source": [
    "QMDP_new_alphas = QMDPSolver_new(m);"
   ]
  },
  {
   "cell_type": "code",
   "execution_count": 13,
   "metadata": {
    "scrolled": false
   },
   "outputs": [],
   "source": [
    "# initialize the solver\n",
    "# key-word args are the maximum number of iterations the solver will run for, and the Bellman tolerance\n",
    "solver = QMDPSolver(max_iterations=20, tolerance=1e-3) \n",
    "\n",
    "# solve for the QMDP policy\n",
    "QMDP_policy = solve(solver, m);"
   ]
  },
  {
   "cell_type": "code",
   "execution_count": 15,
   "metadata": {},
   "outputs": [
    {
     "ename": "MethodError",
     "evalue": "MethodError: no method matching reward(::RoombaPOMDP{Bumper,Bool}, ::RoombaState, ::RoombaAct)\nClosest candidates are:\n  reward(::Union{RoombaMDP, RoombaPOMDP}, ::AbstractArray{Float64,1}, ::AbstractArray{Float64,1}, !Matched::AbstractArray{Float64,1}) at /home/colasg/Documents/AA228FinalProject/src/roomba_env.jl:339\n  reward(::Union{MDP, POMDP}, ::Any, ::Any, !Matched::Any) at /home/colasg/.julia/packages/POMDPs/JiYXY/src/pomdp.jl:107\n  reward(!Matched::POMDPModelTools.FullyObservablePOMDP{S,A}, ::S, ::A) where {S, A} at /home/colasg/.julia/packages/POMDPModelTools/eHEjm/src/fully_observable_pomdp.jl:41\n  ...",
     "output_type": "error",
     "traceback": [
      "MethodError: no method matching reward(::RoombaPOMDP{Bumper,Bool}, ::RoombaState, ::RoombaAct)\nClosest candidates are:\n  reward(::Union{RoombaMDP, RoombaPOMDP}, ::AbstractArray{Float64,1}, ::AbstractArray{Float64,1}, !Matched::AbstractArray{Float64,1}) at /home/colasg/Documents/AA228FinalProject/src/roomba_env.jl:339\n  reward(::Union{MDP, POMDP}, ::Any, ::Any, !Matched::Any) at /home/colasg/.julia/packages/POMDPs/JiYXY/src/pomdp.jl:107\n  reward(!Matched::POMDPModelTools.FullyObservablePOMDP{S,A}, ::S, ::A) where {S, A} at /home/colasg/.julia/packages/POMDPModelTools/eHEjm/src/fully_observable_pomdp.jl:41\n  ...",
      "",
      "Stacktrace:",
      " [1] #solve#2(::Base.Iterators.Pairs{Union{},Union{},Tuple{},NamedTuple{(),Tuple{}}}, ::Function, ::FIBSolver, ::RoombaPOMDP{Bumper,Bool}) at /home/colasg/.julia/packages/FIB/IMGXy/src/vanilla.jl:32",
      " [2] solve(::FIBSolver, ::RoombaPOMDP{Bumper,Bool}) at /home/colasg/.julia/packages/FIB/IMGXy/src/vanilla.jl:13",
      " [3] top-level scope at In[15]:4"
     ]
    }
   ],
   "source": [
    "# initialize the solver\n",
    "# key-word args are the maximum number of iterations the solver will run for, and the Bellman tolerance\n",
    "solver = FIBSolver() #max_iterations=20, tolerance=1e-3) \n",
    "\n",
    "# solve for the QMDP policy\n",
    "FIB_policy = solve(solver, m);"
   ]
  },
  {
   "cell_type": "markdown",
   "metadata": {},
   "source": [
    "### Define a policy : Branch and Bound\n",
    "\n",
    "We define thr 'Branch and Bound' online policy that find the best action 'a' to take in state 's' by branching every possible series of action up to depth 'd'. The pruning process uses QMDP alpha vectors as an upper bound.\n",
    "\n",
    "The worst state in which you can be is \"falling in the stairs\" which is a terminal state. We use the corresponding reward as a lower bound: $U_{lower} = R(\"fall\", a) = -10$\n",
    "\n",
    "First we create a struct that subtypes the Policy abstract type, defined in the package ```POMDPPolicies.jl```. Here, we can also define certain parameters, such as a variable defining the depth 'd'.\n",
    "\n",
    "Next, we define a function that can take in our policy and the belief state and return the desired action. We do this by defining a new ```POMDPs.action``` function that will work with our policy. \n",
    "\n",
    "Complexity: $\\mathcal{O}((|\\mathcal{A}| n_{samples} + n_{particles})^{depth})$"
   ]
  },
  {
   "cell_type": "code",
   "execution_count": 20,
   "metadata": {},
   "outputs": [],
   "source": [
    "# Define the policy to test\n",
    "mutable struct ToEnd <: Policy\n",
    "    d::Int64 # depth of forward search\n",
    "end\n",
    "\n",
    "function branch_bound(m::RoombaModel, belief_updater::RoombaParticleFilter, alphas::Array{Array{Float64,1},1}, b::ParticleCollection{RoombaState}, d::Int64)\n",
    "    # hyperparameters\n",
    "    n_samples = 5\n",
    "    \n",
    "    # mdp characteristics\n",
    "    sspace = states(m)\n",
    "    aspace = actions(m)    \n",
    "    \n",
    "    if d == 0\n",
    "        U_lower = -10 # lower bound\n",
    "        return (nothing, U_lower)\n",
    "    end\n",
    "    \n",
    "    a_best, U_best = nothing, -Inf\n",
    "    \n",
    "    # compute the upper bounds for every actions from the alpha vectors\n",
    "    U_upper = [mean([ alphas[i][stateindex(m, particle(b, j))] for j in 1:n_particles(b)]) for i in 1:length(aspace)]\n",
    "    \n",
    "    # argsort U_upper to 'prune' branches using this upper bound\n",
    "    argsort_upper = sortperm(-U_upper)\n",
    "    sorted_upper = U_upper[argsort_upper]\n",
    "    \n",
    "    # iterate over all the possible discrete actions\n",
    "    for (i, a) in enumerate(aspace[argsort_upper])\n",
    "        \n",
    "        if sorted_upper[i] < U_best\n",
    "            return a_best, U_best\n",
    "        end\n",
    "        \n",
    "        U = 0\n",
    "        \n",
    "        # sample 'n_sample' observations\n",
    "        for count=1: n_samples\n",
    "            # sample a random particle from the belief\n",
    "            n_part = n_particles(b)\n",
    "            j = rand(1:n_part)\n",
    "            s = particle(b, j)\n",
    "            # sample a next state\n",
    "            sp = generate_s(m, s, a, belief_updater.spf.rng)\n",
    "            # sample an observation and a reward\n",
    "            (o, r) = generate_or(m, s, a, sp, belief_updater.spf.rng)\n",
    "            \n",
    "            # update belief\n",
    "            bp = update(belief_updater, b, a, o)\n",
    "\n",
    "            _, Up = branch_bound(m, belief_updater, alphas, bp, d-1)\n",
    "            # update the expected return\n",
    "            U = U + 1/n_samples * (r + discount(m) * Up)\n",
    "        end\n",
    "        \n",
    "        # force the Roomba to move\n",
    "        if (U > U_best) & ((a.v > 0) | (a.omega > 0))\n",
    "            a_best, U_best = a, U\n",
    "        end\n",
    "    end\n",
    "    \n",
    "    return (a_best, U_best)\n",
    "end\n",
    "\n",
    "# define a new function that takes in the policy struct and current belief,\n",
    "# and returns the desired action\n",
    "function POMDPs.action(p::ToEnd, b::ParticleCollection{RoombaState})\n",
    "    a_best, U_best = branch_bound(m, belief_updater, QMDP_policy.alphas, b, p.d)\n",
    "    return a_best\n",
    "end"
   ]
  },
  {
   "cell_type": "markdown",
   "metadata": {},
   "source": [
    "### Simulation and rendering\n",
    "\n",
    "Here, we will demonstrate how to seed the environment, run a simulation, and render the simulation. To render the simulation, we use the ```Gtk``` package. \n",
    "\n",
    "The simulation is carried out using the ```stepthrough``` function defined in the package ```POMDPSimulators.jl```. During a simulation, a window will open that renders the scene. It may be hidden behind other windows on your desktop."
   ]
  },
  {
   "cell_type": "code",
   "execution_count": null,
   "metadata": {},
   "outputs": [],
   "source": [
    "# first seed the environment\n",
    "Random.seed!(1)\n",
    "\n",
    "# reset the policy\n",
    "depth = 2\n",
    "p = ToEnd(depth) # here, the argument sets the time-steps elapsed to 0\n",
    "\n",
    "# run the simulation\n",
    "c = @GtkCanvas()\n",
    "win = GtkWindow(c, \"Roomba Environment\", 600, 600)\n",
    "for (t, step) in enumerate(stepthrough(m, p, belief_updater, max_steps=100))\n",
    "    @guarded draw(c) do widget\n",
    "        \n",
    "        # the following lines render the room, the particles, and the roomba\n",
    "        ctx = getgc(c)\n",
    "        set_source_rgb(ctx,1,1,1)\n",
    "        paint(ctx)\n",
    "        render(ctx, m, step)\n",
    "        \n",
    "        # render some information that can help with debugging\n",
    "        # here, we render the time-step, the state, and the observation\n",
    "        move_to(ctx,300,400)\n",
    "        show_text(ctx, @sprintf(\"t=%d, state=%s, o=%.3f\",t,string(step.s),step.o))\n",
    "    end\n",
    "    show(c)\n",
    "    sleep(0.01) # to slow down the simulation\n",
    "end"
   ]
  },
  {
   "cell_type": "markdown",
   "metadata": {},
   "source": [
    "### Specifying initial states and beliefs\n",
    "If, for debugging purposes, you would like to hard-code a starting location or initial belief state for the roomba, you can do so by taking the following steps.\n",
    "\n",
    "First, we define the initial state using the following line of code:\n",
    "```\n",
    "is = RoombaState(x,y,th,0.)\n",
    "```\n",
    "Where ```x``` and ```y``` are the x,y coordinates of the starting location and ```th``` is the heading in radians. The last entry, ```0.```, respresents whether the state is terminal, and should remain unchanged.\n",
    "\n",
    "If you would like to initialize the Roomba's belief as perfectly localized, you can do so with the following line of code:\n",
    "```\n",
    "b0 = Deterministic(is)\n",
    "```\n",
    "If you would like to initialize the standard unlocalized belief, use these lines:\n",
    "```\n",
    "dist = initialstate_distribution(m)\n",
    "b0 = initialize_belief(belief_updater, dist)\n",
    "```\n",
    "Finally, we call the ```stepthrough``` function using the initial state and belief as follows:\n",
    "```\n",
    "stepthrough(m,planner,belief_updater,b0,is,max_steps=300)\n",
    "```"
   ]
  },
  {
   "cell_type": "markdown",
   "metadata": {},
   "source": [
    "### Evaluation \n",
    "\n",
    "Here, we demonstate a simple evaluation of the policy's performance for a few random seeds. This is meant to serve only as an example, and we encourage you to develop your own evaluation metrics.\n",
    "\n",
    "We intialize the robot using five different random seeds, and simulate its performance for 100 time-steps. We then sum the rewards experienced during its interaction with the environment and track this total reward for the five trials.\n",
    "Finally, we report the mean and standard error for the total reward. The standard error is the standard deviation of a sample set divided by the square root of the number of samples, and represents the uncertainty in the estimate of the mean value."
   ]
  },
  {
   "cell_type": "code",
   "execution_count": 44,
   "metadata": {},
   "outputs": [
    {
     "name": "stdout",
     "output_type": "stream",
     "text": [
      "1\n",
      "2\n",
      "3\n",
      "4\n",
      "5\n",
      "Mean Total Reward: -6.160, StdErr Total Reward: 3.840"
     ]
    }
   ],
   "source": [
    "using Statistics\n",
    "\n",
    "total_rewards = []\n",
    "\n",
    "for exp = 1:5\n",
    "    println(string(exp))\n",
    "    \n",
    "    Random.seed!(exp)\n",
    "    \n",
    "    p = ToEnd(depth)\n",
    "    traj_rewards = sum([step.r for step in stepthrough(m,p,belief_updater, max_steps=100)])\n",
    "    \n",
    "    push!(total_rewards, traj_rewards)\n",
    "end\n",
    "\n",
    "@printf(\"Mean Total Reward: %.3f, StdErr Total Reward: %.3f\", mean(total_rewards), std(total_rewards)/sqrt(5))"
   ]
  },
  {
   "cell_type": "code",
   "execution_count": null,
   "metadata": {},
   "outputs": [],
   "source": []
  }
 ],
 "metadata": {
  "@webio": {
   "lastCommId": "64c686e6e0484020b0fb1f25f2b6a3d0",
   "lastKernelId": "8547ae3a-4dff-4d1f-ab82-5333a5678eec"
  },
  "kernelspec": {
   "display_name": "Julia 1.0.2",
   "language": "julia",
   "name": "julia-1.0"
  },
  "language_info": {
   "file_extension": ".jl",
   "mimetype": "application/julia",
   "name": "julia",
   "version": "1.0.2"
  }
 },
 "nbformat": 4,
 "nbformat_minor": 1
}
