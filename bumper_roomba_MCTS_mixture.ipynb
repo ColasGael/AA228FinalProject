{
 "cells": [
  {
   "cell_type": "markdown",
   "metadata": {},
   "source": [
    "# AA228/CS238 Optional Final Project: Escape Roomba\n",
    "\n",
    "This notebook tests the QMDP + Monte Carlo Tree Search implementation"
   ]
  },
  {
   "cell_type": "code",
   "execution_count": 1,
   "metadata": {},
   "outputs": [
    {
     "data": {
      "text/plain": [
       "\"/home/colasg/Documents/AA228FinalProject/Project.toml\""
      ]
     },
     "execution_count": 1,
     "metadata": {},
     "output_type": "execute_result"
    }
   ],
   "source": [
    "# activate project environment\n",
    "# include these lines of code in any future scripts/notebooks\n",
    "#---\n",
    "import Pkg\n",
    "if !haskey(Pkg.installed(), \"AA228FinalProject\")\n",
    "    jenv = joinpath(dirname(@__FILE__()), \".\") # this assumes the notebook is in the same dir\n",
    "    # as the Project.toml file, which should be in top level dir of the project. \n",
    "    # Change accordingly if this is not the case.\n",
    "    Pkg.activate(jenv)\n",
    "end\n",
    "#---"
   ]
  },
  {
   "cell_type": "code",
   "execution_count": 2,
   "metadata": {},
   "outputs": [],
   "source": [
    "# import necessary packages\n",
    "using AA228FinalProject\n",
    "using POMDPs\n",
    "using POMDPPolicies\n",
    "using BeliefUpdaters\n",
    "using ParticleFilters\n",
    "using POMDPSimulators\n",
    "using BasicPOMCP\n",
    "using Cairo\n",
    "using Gtk\n",
    "using Random\n",
    "using Statistics # to evaluate policy\n",
    "using Printf\n",
    "using JLD # to save alpha vectors"
   ]
  },
  {
   "cell_type": "markdown",
   "metadata": {},
   "source": [
    "## Define the POMDP\n",
    "\n",
    "### Create state space, action space, sensor and construct POMDP\n",
    "\n",
    "The QMDP offline method compute 1 alpha vector $\\alpha_a$ per action, with components $\\alpha_a(s)$ for $s \\in \\mathcal{S}, a \\in \\mathcal{A}$\n",
    "\n",
    "This methods only works with finite state and action spaces, we first define the discretization/\n",
    "\n",
    "Then we instantiate a Bump sensor. The Bumper indicates when contact has been made between any part of the Roomba and any wall.\n",
    "\n",
    "Next, we instantiate the MDP, which defines the underlying simulation environment, assuming full observability. The MDP takes many arguments to specify details of the problem. One argument we must specify here is the ```config```. This argument, which can take values 1,2, or 3, specifies the room configuration, with each configuration corresponding to a different location for the goal and stairs.\n",
    "\n",
    "Finally, we instantiate the POMDP. The POMDP takes as an argument the underlying MDP as well as the sensor, which it uses to define the observation model. "
   ]
  },
  {
   "cell_type": "code",
   "execution_count": 3,
   "metadata": {},
   "outputs": [],
   "source": [
    "# discrete state space\n",
    "num_x_pts = 50\n",
    "num_y_pts = 50\n",
    "num_th_pts = 20\n",
    "sspace = DiscreteRoombaStateSpace(num_x_pts,num_y_pts,num_th_pts);"
   ]
  },
  {
   "cell_type": "code",
   "execution_count": 4,
   "metadata": {},
   "outputs": [],
   "source": [
    "# discrete action space\n",
    "vlist = [2, 5, 10]\n",
    "omlist = [-1, 0, 1]\n",
    "aspace = vec(collect(RoombaAct(v, om) for v in vlist, om in omlist));"
   ]
  },
  {
   "cell_type": "code",
   "execution_count": 5,
   "metadata": {},
   "outputs": [
    {
     "name": "stdout",
     "output_type": "stream",
     "text": [
      "Number of discrete states:150000\n",
      "Number of discrete actions:9\n"
     ]
    }
   ],
   "source": [
    "sensor = Bumper()\n",
    "config = 1 # 1,2, or 3\n",
    "m = RoombaPOMDP(sensor=sensor, mdp=RoombaMDP(config=config, sspace=sspace, aspace=aspace));\n",
    "println(\"Number of discrete states:\", n_states(m))\n",
    "println(\"Number of discrete actions:\", n_actions(m))"
   ]
  },
  {
   "cell_type": "markdown",
   "metadata": {},
   "source": [
    "### Setting up a Particle Filter\n",
    "\n",
    "Here, as the state space is high dimensional, we instantiate a particle filter.\n",
    "\n",
    "First, we instantiate a resampler, which is responsible for updating the belief state given an observation. The first argument for both resamplers is the number of particles that represent the belief state. The lidar resampler takes a low-variance resampler as an additional argument, which is responsible for efficiently resampling a weighted set of particles. \n",
    "\n",
    "Next, we instantiate a ```SimpleParticleFilter```, which enables us to perform our belief updates.\n",
    "\n",
    "Finally, we pass this particle filter into a custom struct called a ```RoombaParticleFilter```, which takes two additional arguments. These arguments specify the noise in the velocity and turn-rate, used when propegating particles according to the action taken. These can be tuned depending on the type of sensor used."
   ]
  },
  {
   "cell_type": "code",
   "execution_count": 6,
   "metadata": {},
   "outputs": [],
   "source": [
    "num_particles = 5000\n",
    "resampler = BumperResampler(num_particles)\n",
    "\n",
    "spf = SimpleParticleFilter(m, resampler)\n",
    "\n",
    "v_noise_coefficient = 2.0\n",
    "om_noise_coefficient = 0.5\n",
    "\n",
    "belief_updater = RoombaParticleFilter(spf, v_noise_coefficient, om_noise_coefficient);"
   ]
  },
  {
   "cell_type": "markdown",
   "metadata": {},
   "source": [
    "## Solve the POMDP"
   ]
  },
  {
   "cell_type": "markdown",
   "metadata": {},
   "source": [
    "### Load the QMDP alpha vectors"
   ]
  },
  {
   "cell_type": "code",
   "execution_count": 7,
   "metadata": {},
   "outputs": [],
   "source": [
    "QMDP_alphas = load(\"QMDP_alphas.jld\")[\"QMDP_alphas\"];"
   ]
  },
  {
   "cell_type": "markdown",
   "metadata": {},
   "source": [
    "### Define a policy : Monte Carlo Search Tree\n",
    "\n",
    "First we create a struct that subtypes the Policy abstract type, defined in the package ```POMDPPolicies.jl```. Here, we can also define certain parameters, such as a variable defining the depth 'd'.\n",
    "\n",
    "Next, we define a function that can take in our policy and the belief state and return the desired action. We do this by defining a new ```POMDPs.action``` function that will work with our policy. "
   ]
  },
  {
   "cell_type": "code",
   "execution_count": 8,
   "metadata": {},
   "outputs": [],
   "source": [
    "# use QMDP alphas as a starting heuristic\n",
    "struct QMDPHeuristic <: Policy\n",
    "    alphas::Array{Array{Float64,1},1} # store the alpha vectors\n",
    "end\n",
    "\n",
    "# define what the policy actually does in POMDPs.action : note this is a function of state, not belief\n",
    "function POMDPs.action(p::QMDPHeuristic, s::RoombaState) \n",
    "    k = stateindex(m, s)\n",
    "    # find the action associated with the highest alpha vector value in state s\n",
    "    idx = findmax([p.alphas[i][k] for i in 1:length(actions(m))])[2]\n",
    "    a = actions(m)[idx]\n",
    "    return a # this may need to be different for discrete actions?\n",
    "end\n",
    "\n",
    "# QMDP heuristic policy\n",
    "p = QMDPHeuristic(QMDP_alphas)\n",
    "\n",
    "# MC started with QMDP heuristic\n",
    "solver = POMCPSolver(estimate_value=FORollout(p))\n",
    "\n",
    "# corresponding policy\n",
    "planner = solve(solver, m)\n",
    "\n",
    "# empty policy to combine with controller\n",
    "mutable struct ControllerPolicy <: Policy\n",
    "    planner # POMCP planner to use\n",
    "end\n",
    "\n",
    "# extract goal for heuristic controller\n",
    "goal_xy = get_goal_xy(m)\n",
    "\n",
    "# define a new function that takes in the policy struct and current belief,\n",
    "# and returns the desired action\n",
    "function POMDPs.action(p::ControllerPolicy, b::ParticleCollection{RoombaState})\n",
    "    # hyperparameters\n",
    "    threshold = 0.5 # confidence threshold\n",
    "    v = 5.0 # fixed travel velocity\n",
    "    n_x, n_y, n_theta = 40., 20., 6.\n",
    "    \n",
    "    # normalization\n",
    "    std_pos = std(particles(b))[1:3] ./ [n_x, n_y, n_theta] \n",
    "    #println(\"Variance :\", std_pos, sum(std_pos))\n",
    "    \n",
    "    # check that Roomba is confident about its position\n",
    "    if sum(std_pos) < threshold && !AA228FinalProject.wall_contact(m, particle(b, 1))\n",
    "        #println(\"Switch to controller\")\n",
    "        # use a proportional controller to navigate directly to the goal, using the mean belief state\n",
    "        # compute mean belief of a subset of particles\n",
    "        s = mean(b)\n",
    "\n",
    "        # compute the difference between our current heading and one that would\n",
    "        # point to the goal\n",
    "        goal_x, goal_y = goal_xy\n",
    "        x,y,th = s[1:3]\n",
    "        ang_to_goal = atan(goal_y - y, goal_x - x)\n",
    "        del_angle = wrap_to_pi(ang_to_goal - th)\n",
    "\n",
    "        # apply proportional control to compute the turn-rate\n",
    "        #Kprop = 1.0\n",
    "        Kprop = 0.5\n",
    "        om = Kprop * del_angle        \n",
    "        \n",
    "        return RoombaAct(v, om)\n",
    "    end\n",
    "        \n",
    "    # if not we use Monte Carlo Tree Search to explore more\n",
    "    a_best = action(p.planner, b)\n",
    "    return a_best\n",
    "end"
   ]
  },
  {
   "cell_type": "markdown",
   "metadata": {},
   "source": [
    "### Simulation and rendering\n",
    "\n",
    "Here, we will demonstrate how to seed the environment, run a simulation, and render the simulation. To render the simulation, we use the ```Gtk``` package. \n",
    "\n",
    "The simulation is carried out using the ```stepthrough``` function defined in the package ```POMDPSimulators.jl```. During a simulation, a window will open that renders the scene. It may be hidden behind other windows on your desktop."
   ]
  },
  {
   "cell_type": "code",
   "execution_count": 11,
   "metadata": {
    "scrolled": false
   },
   "outputs": [
    {
     "ename": "InterruptException",
     "evalue": "InterruptException:",
     "output_type": "error",
     "traceback": [
      "InterruptException:",
      "",
      "Stacktrace:",
      " [1] furthest_step(::AA228FinalProject.LineSegment, ::StaticArrays.SArray{Tuple{2},Float64,1,2}, ::StaticArrays.SArray{Tuple{2},Float64,1,2}, ::Float64) at /home/colasg/Documents/AA228FinalProject/src/line_segment_utils.jl:192",
      " [2] (::getfield(AA228FinalProject, Symbol(\"##7#8\")){StaticArrays.SArray{Tuple{2},Float64,1,2},StaticArrays.SArray{Tuple{2},Float64,1,2}})(::AA228FinalProject.LineSegment) at ./none:0",
      " [3] iterate at ./generator.jl:47 [inlined]",
      " [4] mapfoldl_impl(::typeof(identity), ::typeof(min), ::NamedTuple{(:init,),Tuple{Float64}}, ::Base.Generator{Array{AA228FinalProject.LineSegment,1},getfield(AA228FinalProject, Symbol(\"##7#8\")){StaticArrays.SArray{Tuple{2},Float64,1,2},StaticArrays.SArray{Tuple{2},Float64,1,2}}}, ::Int64) at ./reduce.jl:41",
      " [5] mapfoldl_impl(::typeof(identity), ::typeof(min), ::NamedTuple{(:init,),Tuple{Float64}}, ::Base.Generator{Array{AA228FinalProject.Rectangle,1},getfield(AA228FinalProject, Symbol(\"##17#18\")){StaticArrays.SArray{Tuple{2},Float64,1,2},StaticArrays.SArray{Tuple{2},Float64,1,2}}}, ::Int64) at ./reduce.jl:59 (repeats 2 times)",
      " [6] #mapfoldl#170 at ./reduce.jl:70 [inlined]",
      " [7] mapfoldl(::Function, ::Function, ::Base.Generator{Array{AA228FinalProject.Rectangle,1},getfield(AA228FinalProject, Symbol(\"##17#18\")){StaticArrays.SArray{Tuple{2},Float64,1,2},StaticArrays.SArray{Tuple{2},Float64,1,2}}}) at ./reduce.jl:70",
      " [8] #mapreduce#174 at ./reduce.jl:203 [inlined]",
      " [9] mapreduce at ./reduce.jl:203 [inlined]",
      " [10] minimum at ./reduce.jl:501 [inlined]",
      " [11] legal_translate(::AA228FinalProject.Room, ::StaticArrays.SArray{Tuple{2},Float64,1,2}, ::StaticArrays.SArray{Tuple{2},Float64,1,2}, ::Float64) at /home/colasg/Documents/AA228FinalProject/src/env_room.jl:294",
      " [12] transition(::RoombaPOMDP{Bumper,Bool}, ::RoombaState, ::RoombaAct) at /home/colasg/Documents/AA228FinalProject/src/roomba_env.jl:246",
      " [13] macro expansion at /home/colasg/.julia/packages/POMDPs/JiYXY/src/generative_impl.jl:19 [inlined]",
      " [14] generate_s at /home/colasg/.julia/packages/POMDPs/JiYXY/src/generative_impl.jl:18 [inlined]",
      " [15] macro expansion at /home/colasg/.julia/packages/POMDPs/JiYXY/src/generative_impl.jl:55 [inlined]",
      " [16] generate_sr(::RoombaPOMDP{Bumper,Bool}, ::RoombaState, ::RoombaAct, ::MersenneTwister) at /home/colasg/.julia/packages/POMDPs/JiYXY/src/generative_impl.jl:54",
      " [17] simulate(::RolloutSimulator{MersenneTwister}, ::RoombaPOMDP{Bumper,Bool}, ::QMDPHeuristic, ::RoombaState) at /home/colasg/.julia/packages/POMDPSimulators/xyfJM/src/rollout.jl:161",
      " [18] simulate(::POMCPPlanner{RoombaPOMDP{Bumper,Bool},BasicPOMCP.SolvedFORollout{QMDPHeuristic,MersenneTwister},MersenneTwister}, ::RoombaState, ::BasicPOMCP.POMCPObsNode{RoombaAct,Bool}, ::Int64) at /home/colasg/.julia/packages/BasicPOMCP/01DOC/src/rollout.jl:96",
      " [19] simulate(::POMCPPlanner{RoombaPOMDP{Bumper,Bool},BasicPOMCP.SolvedFORollout{QMDPHeuristic,MersenneTwister},MersenneTwister}, ::RoombaState, ::BasicPOMCP.POMCPObsNode{RoombaAct,Bool}, ::Int64) at /home/colasg/.julia/packages/BasicPOMCP/01DOC/src/solver.jl:102 (repeats 2 times)",
      " [20] search(::POMCPPlanner{RoombaPOMDP{Bumper,Bool},BasicPOMCP.SolvedFORollout{QMDPHeuristic,MersenneTwister},MersenneTwister}, ::ParticleCollection{RoombaState}, ::BasicPOMCP.POMCPTree{RoombaAct,Bool}, ::Dict{Symbol,Any}) at /home/colasg/.julia/packages/BasicPOMCP/01DOC/src/solver.jl:32",
      " [21] #action_info#4(::Bool, ::Function, ::POMCPPlanner{RoombaPOMDP{Bumper,Bool},BasicPOMCP.SolvedFORollout{QMDPHeuristic,MersenneTwister},MersenneTwister}, ::ParticleCollection{RoombaState}) at /home/colasg/.julia/packages/BasicPOMCP/01DOC/src/solver.jl:6",
      " [22] action_info at /home/colasg/.julia/packages/BasicPOMCP/01DOC/src/solver.jl:2 [inlined]",
      " [23] action(::POMCPPlanner{RoombaPOMDP{Bumper,Bool},BasicPOMCP.SolvedFORollout{QMDPHeuristic,MersenneTwister},MersenneTwister}, ::ParticleCollection{RoombaState}) at /home/colasg/.julia/packages/BasicPOMCP/01DOC/src/solver.jl:19",
      " [24] action(::ControllerPolicy, ::ParticleCollection{RoombaState}) at ./In[8]:67",
      " [25] action_info at /home/colasg/.julia/packages/POMDPModelTools/eHEjm/src/info.jl:30 [inlined]",
      " [26] iterate(::POMDPSimulators.POMDPSimIterator{(:s, :a, :r, :sp, :t, :i, :ai, :b, :o, :bp, :ui),RoombaPOMDP{Bumper,Bool},ControllerPolicy,RoombaParticleFilter,MersenneTwister,ParticleCollection{RoombaState},RoombaState}, ::Tuple{Int64,RoombaState,ParticleCollection{RoombaState}}) at /home/colasg/.julia/packages/POMDPSimulators/xyfJM/src/stepthrough.jl:102",
      " [27] iterate(::Base.Iterators.Enumerate{POMDPSimulators.POMDPSimIterator{(:s, :a, :r, :sp, :t, :i, :ai, :b, :o, :bp, :ui),RoombaPOMDP{Bumper,Bool},ControllerPolicy,RoombaParticleFilter,MersenneTwister,ParticleCollection{RoombaState},RoombaState}}, ::Tuple{Int64,Tuple{Int64,RoombaState,ParticleCollection{RoombaState}}}) at ./iterators.jl:139",
      " [28] top-level scope at In[11]:29"
     ]
    }
   ],
   "source": [
    "# first seed the environment\n",
    "Random.seed!(27)\n",
    "\n",
    "# define the policy\n",
    "p = ControllerPolicy(planner)\n",
    "\n",
    "# compute the total reward\n",
    "traj_rewards = 0\n",
    "# run the simulation\n",
    "c = @GtkCanvas()\n",
    "win = GtkWindow(c, \"Roomba Environment\", 600, 600)\n",
    "for (t, step) in enumerate(stepthrough(m, p, belief_updater, max_steps=100))\n",
    "    @guarded draw(c) do widget\n",
    "        \n",
    "        # the following lines render the room, the particles, and the roomba\n",
    "        ctx = getgc(c)\n",
    "        set_source_rgb(ctx,1,1,1)\n",
    "        paint(ctx)\n",
    "        render(ctx, m, step)\n",
    "        \n",
    "        # render some information that can help with debugging\n",
    "        # here, we render the time-step, the state, and the observation\n",
    "        move_to(ctx,300,400)\n",
    "        show_text(ctx, @sprintf(\"t=%d, s=%s, o=%.3f, a=%s\",t,string(step.s),step.o, string(step.a)))\n",
    "    end\n",
    "    traj_rewards += step.r\n",
    "\n",
    "    show(c)\n",
    "    sleep(0.01) # to slow down the simulation\n",
    "end\n",
    "\n",
    "println(\"Total Reward: \", traj_rewards)\n"
   ]
  },
  {
   "cell_type": "markdown",
   "metadata": {},
   "source": [
    "### Specifying initial states and beliefs\n",
    "If, for debugging purposes, you would like to hard-code a starting location or initial belief state for the roomba, you can do so by taking the following steps.\n",
    "\n",
    "First, we define the initial state using the following line of code:\n",
    "```\n",
    "is = RoombaState(x,y,th,0.)\n",
    "```\n",
    "Where ```x``` and ```y``` are the x,y coordinates of the starting location and ```th``` is the heading in radians. The last entry, ```0.```, respresents whether the state is terminal, and should remain unchanged.\n",
    "\n",
    "If you would like to initialize the Roomba's belief as perfectly localized, you can do so with the following line of code:\n",
    "```\n",
    "b0 = Deterministic(is)\n",
    "```\n",
    "If you would like to initialize the standard unlocalized belief, use these lines:\n",
    "```\n",
    "dist = initialstate_distribution(m)\n",
    "b0 = initialize_belief(belief_updater, dist)\n",
    "```\n",
    "Finally, we call the ```stepthrough``` function using the initial state and belief as follows:\n",
    "```\n",
    "stepthrough(m,planner,belief_updater,b0,is,max_steps=300)\n",
    "```"
   ]
  },
  {
   "cell_type": "markdown",
   "metadata": {},
   "source": [
    "### Evaluation \n",
    "\n",
    "Here, we demonstate a simple evaluation of the policy's performance for a few random seeds. This is meant to serve only as an example, and we encourage you to develop your own evaluation metrics.\n",
    "\n",
    "We intialize the robot using five different random seeds, and simulate its performance for 100 time-steps. We then sum the rewards experienced during its interaction with the environment and track this total reward for the five trials.\n",
    "Finally, we report the mean and standard error for the total reward. The standard error is the standard deviation of a sample set divided by the square root of the number of samples, and represents the uncertainty in the estimate of the mean value."
   ]
  },
  {
   "cell_type": "code",
   "execution_count": 12,
   "metadata": {},
   "outputs": [
    {
     "ename": "LoadError",
     "evalue": "syntax: unexpected \"=\"",
     "output_type": "error",
     "traceback": [
      "syntax: unexpected \"=\"",
      ""
     ]
    }
   ],
   "source": [
    "total_rewards = []\n",
    "\n",
    "# define the policy\n",
    "p = ControllerPolicy(planner)\n",
    "\n",
    "for exp = 1:50\n",
    "    if exp = 27:\n",
    "        continue\n",
    "    end\n",
    "    \n",
    "    Random.seed!(exp)\n",
    "    \n",
    "    traj_rewards = sum([step.r for step in stepthrough(m, p, belief_updater, max_steps=100)])\n",
    "    \n",
    "    println(\"Experience: \", string(exp), \" Reward: \", traj_rewards)\n",
    "\n",
    "    push!(total_rewards, traj_rewards)\n",
    "end\n",
    "\n",
    "@printf(\"Mean Total Reward: %.3f, StdErr Total Reward: %.3f\", mean(total_rewards), std(total_rewards)/sqrt(5))"
   ]
  },
  {
   "cell_type": "code",
   "execution_count": null,
   "metadata": {},
   "outputs": [],
   "source": []
  }
 ],
 "metadata": {
  "@webio": {
   "lastCommId": "9eec9655685a47cf89707fee8172bd0e",
   "lastKernelId": "38060893-89c7-41f5-b037-7aeb8bfd797e"
  },
  "kernelspec": {
   "display_name": "Julia 1.0.2",
   "language": "julia",
   "name": "julia-1.0"
  },
  "language_info": {
   "file_extension": ".jl",
   "mimetype": "application/julia",
   "name": "julia",
   "version": "1.0.2"
  }
 },
 "nbformat": 4,
 "nbformat_minor": 1
}
