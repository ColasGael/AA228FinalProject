{
 "cells": [
  {
   "cell_type": "markdown",
   "metadata": {},
   "source": [
    "# AA228/CS238 Optional Final Project: Escape Roomba\n",
    "\n",
    "This notebook tests the QMDP + Monte Carlo Tree Search implementation"
   ]
  },
  {
   "cell_type": "code",
   "execution_count": 1,
   "metadata": {},
   "outputs": [
    {
     "data": {
      "text/plain": [
       "\"/home/colasg/Documents/AA228FinalProject/Project.toml\""
      ]
     },
     "execution_count": 1,
     "metadata": {},
     "output_type": "execute_result"
    }
   ],
   "source": [
    "# activate project environment\n",
    "# include these lines of code in any future scripts/notebooks\n",
    "#---\n",
    "import Pkg\n",
    "if !haskey(Pkg.installed(), \"AA228FinalProject\")\n",
    "    jenv = joinpath(dirname(@__FILE__()), \".\") # this assumes the notebook is in the same dir\n",
    "    # as the Project.toml file, which should be in top level dir of the project. \n",
    "    # Change accordingly if this is not the case.\n",
    "    Pkg.activate(jenv)\n",
    "end\n",
    "#---"
   ]
  },
  {
   "cell_type": "code",
   "execution_count": 2,
   "metadata": {},
   "outputs": [],
   "source": [
    "# import necessary packages\n",
    "using AA228FinalProject\n",
    "using POMDPs\n",
    "using POMDPPolicies\n",
    "using BeliefUpdaters\n",
    "using ParticleFilters\n",
    "using POMDPSimulators\n",
    "using BasicPOMCP\n",
    "using Cairo\n",
    "using Gtk\n",
    "using Random\n",
    "using Statistics # to evaluate policy\n",
    "using Printf\n",
    "using JLD # to save alpha vectors"
   ]
  },
  {
   "cell_type": "markdown",
   "metadata": {},
   "source": [
    "## Define the POMDP\n",
    "\n",
    "### Create state space, action space, sensor and construct POMDP\n",
    "\n",
    "The QMDP offline method compute 1 alpha vector $\\alpha_a$ per action, with components $\\alpha_a(s)$ for $s \\in \\mathcal{S}, a \\in \\mathcal{A}$\n",
    "\n",
    "This methods only works with finite state and action spaces, we first define the discretization/\n",
    "\n",
    "Then we instantiate a Bump sensor. The Bumper indicates when contact has been made between any part of the Roomba and any wall.\n",
    "\n",
    "Next, we instantiate the MDP, which defines the underlying simulation environment, assuming full observability. The MDP takes many arguments to specify details of the problem. One argument we must specify here is the ```config```. This argument, which can take values 1,2, or 3, specifies the room configuration, with each configuration corresponding to a different location for the goal and stairs.\n",
    "\n",
    "Finally, we instantiate the POMDP. The POMDP takes as an argument the underlying MDP as well as the sensor, which it uses to define the observation model. "
   ]
  },
  {
   "cell_type": "code",
   "execution_count": 3,
   "metadata": {},
   "outputs": [],
   "source": [
    "# discrete state space\n",
    "num_x_pts = 50\n",
    "num_y_pts = 50\n",
    "num_th_pts = 20\n",
    "sspace = DiscreteRoombaStateSpace(num_x_pts,num_y_pts,num_th_pts);"
   ]
  },
  {
   "cell_type": "code",
   "execution_count": 4,
   "metadata": {},
   "outputs": [],
   "source": [
    "# discrete action space\n",
    "vlist = [2, 5, 10]\n",
    "omlist = [-1, 0, 1]\n",
    "aspace = vec(collect(RoombaAct(v, om) for v in vlist, om in omlist));"
   ]
  },
  {
   "cell_type": "code",
   "execution_count": 5,
   "metadata": {},
   "outputs": [
    {
     "name": "stdout",
     "output_type": "stream",
     "text": [
      "Number of discrete states:150000\n",
      "Number of discrete actions:9\n"
     ]
    }
   ],
   "source": [
    "sensor = Bumper()\n",
    "config = 1 # 1,2, or 3\n",
    "m = RoombaPOMDP(sensor=sensor, mdp=RoombaMDP(config=config, sspace=sspace, aspace=aspace));\n",
    "println(\"Number of discrete states:\", n_states(m))\n",
    "println(\"Number of discrete actions:\", n_actions(m))"
   ]
  },
  {
   "cell_type": "markdown",
   "metadata": {},
   "source": [
    "### Setting up a Particle Filter\n",
    "\n",
    "Here, as the state space is high dimensional, we instantiate a particle filter.\n",
    "\n",
    "First, we instantiate a resampler, which is responsible for updating the belief state given an observation. The first argument for both resamplers is the number of particles that represent the belief state. The lidar resampler takes a low-variance resampler as an additional argument, which is responsible for efficiently resampling a weighted set of particles. \n",
    "\n",
    "Next, we instantiate a ```SimpleParticleFilter```, which enables us to perform our belief updates.\n",
    "\n",
    "Finally, we pass this particle filter into a custom struct called a ```RoombaParticleFilter```, which takes two additional arguments. These arguments specify the noise in the velocity and turn-rate, used when propegating particles according to the action taken. These can be tuned depending on the type of sensor used."
   ]
  },
  {
   "cell_type": "code",
   "execution_count": 6,
   "metadata": {},
   "outputs": [],
   "source": [
    "num_particles = 5000\n",
    "resampler = BumperResampler(num_particles)\n",
    "\n",
    "spf = SimpleParticleFilter(m, resampler)\n",
    "\n",
    "v_noise_coefficient = 2.0\n",
    "om_noise_coefficient = 0.5\n",
    "\n",
    "belief_updater = RoombaParticleFilter(spf, v_noise_coefficient, om_noise_coefficient);"
   ]
  },
  {
   "cell_type": "markdown",
   "metadata": {},
   "source": [
    "## Solve the POMDP"
   ]
  },
  {
   "cell_type": "markdown",
   "metadata": {},
   "source": [
    "### Load the QMDP alpha vectors"
   ]
  },
  {
   "cell_type": "code",
   "execution_count": 7,
   "metadata": {},
   "outputs": [],
   "source": [
    "QMDP_alphas = load(\"QMDP_alphas.jld\")[\"QMDP_alphas\"];"
   ]
  },
  {
   "cell_type": "markdown",
   "metadata": {},
   "source": [
    "### Define a policy : Monte Carlo Search Tree\n",
    "\n",
    "First we create a struct that subtypes the Policy abstract type, defined in the package ```POMDPPolicies.jl```. Here, we can also define certain parameters, such as a variable defining the depth 'd'.\n",
    "\n",
    "Next, we define a function that can take in our policy and the belief state and return the desired action. We do this by defining a new ```POMDPs.action``` function that will work with our policy. "
   ]
  },
  {
   "cell_type": "code",
   "execution_count": 13,
   "metadata": {},
   "outputs": [],
   "source": [
    "# use QMDP alphas as a starting heuristic\n",
    "struct QMDPHeuristic <: Policy\n",
    "    alphas::Array{Array{Float64,1},1} # store the alpha vectors\n",
    "end\n",
    "\n",
    "# define what the policy actually does in POMDPs.action : note this is a function of state, not belief\n",
    "function POMDPs.action(p::QMDPHeuristic, s::RoombaState) \n",
    "    k = stateindex(m, s)\n",
    "    # find the action associated with the highest alpha vector value in state s\n",
    "    idx = findmax([p.alphas[i][k] for i in 1:length(actions(m))])[2]\n",
    "    a = actions(m)[idx]\n",
    "    return a # this may need to be different for discrete actions?\n",
    "end\n",
    "\n",
    "# QMDP heuristic policy\n",
    "p = QMDPHeuristic(QMDP_alphas)\n",
    "\n",
    "# MC started with QMDP heuristic\n",
    "solver = POMCPSolver(estimate_value=FORollout(p))\n",
    "\n",
    "# corresponding policy\n",
    "planner = solve(solver, m)\n",
    "\n",
    "# empty policy to combine with controller\n",
    "mutable struct ControllerPolicy <: Policy\n",
    "    planner # POMCP planner to use\n",
    "end\n",
    "\n",
    "# extract goal for heuristic controller\n",
    "goal_xy = get_goal_xy(m)\n",
    "\n",
    "# define a new function that takes in the policy struct and current belief,\n",
    "# and returns the desired action\n",
    "function POMDPs.action(p::ControllerPolicy, b::ParticleCollection{RoombaState})\n",
    "    # hyperparameters\n",
    "    threshold = 0.5 # confidence threshold\n",
    "    v = 5.0 # fixed travel velocity\n",
    "    n_x, n_y, n_theta = 40., 20., 6.\n",
    "    Kprop = 2\n",
    "    \n",
    "    # normalization\n",
    "    std_pos = std(particles(b))[1:3] ./ [n_x, n_y, n_theta] \n",
    "    #println(\"Variance :\", std_pos, sum(std_pos))\n",
    "    \n",
    "    # check that Roomba is confident about its position\n",
    "    if sum(std_pos) < threshold && !AA228FinalProject.wall_contact(m, particle(b, 1))\n",
    "        #println(\"Switch to controller\")\n",
    "        # use a proportional controller to navigate directly to the goal, using the mean belief state\n",
    "        # compute mean belief of a subset of particles\n",
    "        s = mean(b)\n",
    "\n",
    "        # compute the difference between our current heading and one that would\n",
    "        # point to the goal\n",
    "        goal_x, goal_y = goal_xy\n",
    "        x,y,th = s[1:3]\n",
    "        ang_to_goal = atan(goal_y - y, goal_x - x)\n",
    "        del_angle = wrap_to_pi(ang_to_goal - th)\n",
    "\n",
    "        # apply proportional control to compute the turn-rate\n",
    "        om = Kprop * del_angle        \n",
    "        \n",
    "        return RoombaAct(v, om)\n",
    "    end\n",
    "        \n",
    "    # if not we use Monte Carlo Tree Search to explore more\n",
    "    a_best = action(p.planner, b)\n",
    "    return a_best\n",
    "end"
   ]
  },
  {
   "cell_type": "markdown",
   "metadata": {},
   "source": [
    "### Simulation and rendering\n",
    "\n",
    "Here, we will demonstrate how to seed the environment, run a simulation, and render the simulation. To render the simulation, we use the ```Gtk``` package. \n",
    "\n",
    "The simulation is carried out using the ```stepthrough``` function defined in the package ```POMDPSimulators.jl```. During a simulation, a window will open that renders the scene. It may be hidden behind other windows on your desktop."
   ]
  },
  {
   "cell_type": "code",
   "execution_count": 41,
   "metadata": {
    "scrolled": false
   },
   "outputs": [
    {
     "name": "stdout",
     "output_type": "stream",
     "text": [
      "Total Reward: -0.1999999999999904\n"
     ]
    }
   ],
   "source": [
    "# first seed the environment\n",
    "Random.seed!(2)\n",
    "\n",
    "# define the policy\n",
    "p = ControllerPolicy(planner)\n",
    "\n",
    "# compute the total reward\n",
    "traj_rewards = 0\n",
    "# run the simulation\n",
    "c = @GtkCanvas()\n",
    "win = GtkWindow(c, \"Roomba Environment\", 600, 600)\n",
    "for (t, step) in enumerate(stepthrough(m, p, belief_updater, max_steps=100))\n",
    "    @guarded draw(c) do widget\n",
    "        \n",
    "        # the following lines render the room, the particles, and the roomba\n",
    "        ctx = getgc(c)\n",
    "        set_source_rgb(ctx,1,1,1)\n",
    "        paint(ctx)\n",
    "        render(ctx, m, step)\n",
    "        \n",
    "        # render some information that can help with debugging\n",
    "        # here, we render the time-step, the state, and the observation\n",
    "        move_to(ctx,300,400)\n",
    "        show_text(ctx, @sprintf(\"t=%d, s=%s, o=%.3f, a=%s\",t,string(step.s),step.o, string(step.a)))\n",
    "    end\n",
    "    traj_rewards += step.r\n",
    "\n",
    "    show(c)\n",
    "    sleep(0.01) # to slow down the simulation\n",
    "end\n",
    "\n",
    "println(\"Total Reward: \", traj_rewards)\n"
   ]
  },
  {
   "cell_type": "markdown",
   "metadata": {},
   "source": [
    "### Specifying initial states and beliefs\n",
    "If, for debugging purposes, you would like to hard-code a starting location or initial belief state for the roomba, you can do so by taking the following steps.\n",
    "\n",
    "First, we define the initial state using the following line of code:\n",
    "```\n",
    "is = RoombaState(x,y,th,0.)\n",
    "```\n",
    "Where ```x``` and ```y``` are the x,y coordinates of the starting location and ```th``` is the heading in radians. The last entry, ```0.```, respresents whether the state is terminal, and should remain unchanged.\n",
    "\n",
    "If you would like to initialize the Roomba's belief as perfectly localized, you can do so with the following line of code:\n",
    "```\n",
    "b0 = Deterministic(is)\n",
    "```\n",
    "If you would like to initialize the standard unlocalized belief, use these lines:\n",
    "```\n",
    "dist = initialstate_distribution(m)\n",
    "b0 = initialize_belief(belief_updater, dist)\n",
    "```\n",
    "Finally, we call the ```stepthrough``` function using the initial state and belief as follows:\n",
    "```\n",
    "stepthrough(m,planner,belief_updater,b0,is,max_steps=300)\n",
    "```"
   ]
  },
  {
   "cell_type": "markdown",
   "metadata": {},
   "source": [
    "### Evaluation \n",
    "\n",
    "Here, we demonstate a simple evaluation of the policy's performance for a few random seeds. This is meant to serve only as an example, and we encourage you to develop your own evaluation metrics.\n",
    "\n",
    "We intialize the robot using five different random seeds, and simulate its performance for 100 time-steps. We then sum the rewards experienced during its interaction with the environment and track this total reward for the five trials.\n",
    "Finally, we report the mean and standard error for the total reward. The standard error is the standard deviation of a sample set divided by the square root of the number of samples, and represents the uncertainty in the estimate of the mean value."
   ]
  },
  {
   "cell_type": "code",
   "execution_count": 42,
   "metadata": {},
   "outputs": [
    {
     "name": "stdout",
     "output_type": "stream",
     "text": [
      "Experience: 1 Reward: -0.1999999999999904\n",
      "Experience: 2 Reward: -0.1999999999999904\n",
      "Experience: 3 Reward: 7.8999999999999995\n",
      "Experience: 4 Reward: 1.0000000000000089\n",
      "Experience: 5 Reward: -20.39999999999999\n",
      "Experience: 6 Reward: 4.699999999999999\n",
      "Experience: 7 Reward: 5.1\n",
      "Experience: 8 Reward: 3.8000000000000034\n",
      "Experience: 9 Reward: 5.299999999999999\n",
      "Experience: 10 Reward: 3.100000000000005\n",
      "Experience: 11 Reward: 3.700000000000001\n",
      "Experience: 12 Reward: 2.3000000000000043\n",
      "Experience: 13 Reward: 7.9\n",
      "Experience: 14 Reward: -2.499999999999986\n",
      "Experience: 15 Reward: -0.8999999999999879\n",
      "Experience: 16 Reward: 6.099999999999999\n",
      "Experience: 17 Reward: 1.0000000000000053\n",
      "Experience: 18 Reward: 6.8\n",
      "Experience: 19 Reward: -5.399999999999986\n",
      "Experience: 20 Reward: 1.4000000000000057\n",
      "Experience: 21 Reward: -2.2999999999999865\n",
      "Experience: 22 Reward: 3.2000000000000055\n",
      "Experience: 23 Reward: -0.5999999999999925\n",
      "Experience: 24 Reward: 8.5\n",
      "Experience: 25 Reward: 5.1\n",
      "Experience: 26 Reward: 8.9\n",
      "Experience: 28 Reward: 0.10000000000000675\n",
      "Experience: 29 Reward: -11.2\n",
      "Experience: 30 Reward: 3.0000000000000053\n",
      "Experience: 31 Reward: 3.600000000000004\n",
      "Experience: 32 Reward: 0.9000000000000057\n",
      "Experience: 33 Reward: 5.6\n",
      "Experience: 34 Reward: 8.0\n",
      "Experience: 35 Reward: 7.6000000000000005\n",
      "Experience: 36 Reward: -0.3999999999999915\n",
      "Experience: 37 Reward: 6.699999999999999\n",
      "Experience: 38 Reward: 2.2000000000000046\n",
      "Experience: 39 Reward: -1.0999999999999908\n",
      "Experience: 40 Reward: -3.8999999999999844\n",
      "Experience: 41 Reward: 4.8999999999999995\n",
      "Experience: 42 Reward: 3.600000000000003\n",
      "Experience: 43 Reward: 0.40000000000000746\n",
      "Experience: 44 Reward: 4.699999999999999\n",
      "Experience: 45 Reward: -2.3999999999999844\n",
      "Experience: 46 Reward: 6.8999999999999995\n",
      "Experience: 47 Reward: 4.100000000000001\n",
      "Experience: 48 Reward: 6.3999999999999995\n",
      "Experience: 49 Reward: 2.2000000000000046\n",
      "Experience: 50 Reward: 8.8\n",
      "Mean Total Reward: 2.327, StdErr Total Reward: 5.268"
     ]
    }
   ],
   "source": [
    "using DataFrames\n",
    "using CSV\n",
    "\n",
    "method = \"MCTS_mixture\"\n",
    "\n",
    "# store the rewards\n",
    "df = DataFrame(Experience = Int[], Reward = String[], EndTime = Int[], NbBumps = Int[], EndStatus = Int[])\n",
    "total_rewards = []\n",
    "\n",
    "\n",
    "# define the policy\n",
    "p = ControllerPolicy(planner)\n",
    "\n",
    "num_exp = 50\n",
    "\n",
    "for exp = 1:num_exp\n",
    "    if exp == 27\n",
    "        push!(df, (exp, string(2.1), 62, 4, 1.0))\n",
    "        continue\n",
    "    end\n",
    "    \n",
    "    Random.seed!(exp)\n",
    "    \n",
    "    traj_rewards = 0\n",
    "    nb_bumps = 0\n",
    "    end_reward = 0\n",
    "    end_time = 0\n",
    "    \n",
    "    previous_bump = 0\n",
    "    for (t, step) in enumerate(stepthrough(m, p, belief_updater, max_steps=100))\n",
    "        traj_rewards += step.r\n",
    "        \n",
    "        if previous_bump == 0\n",
    "            nb_bumps += step.o\n",
    "        end\n",
    "        previous_bump = step.o\n",
    "\n",
    "        end_reward = step.r\n",
    "        end_time = t\n",
    "    end\n",
    "    \n",
    "    end_status = 2.0 * (end_reward >= 8) - 1.0 * (end_time < 100)\n",
    "    \n",
    "    push!(df, (exp, string(traj_rewards), end_time, nb_bumps, end_status))\n",
    "    \n",
    "    println(\"Experience: \", string(exp), \" Reward: \", traj_rewards)\n",
    "\n",
    "    push!(total_rewards, traj_rewards)\n",
    "    CSV.write(string(method, \".csv\"), df)\n",
    "end\n",
    "\n",
    "@printf(\"Mean Total Reward: %.3f, StdErr Total Reward: %.3f\", mean(total_rewards), std(total_rewards))\n"
   ]
  },
  {
   "cell_type": "code",
   "execution_count": null,
   "metadata": {},
   "outputs": [],
   "source": []
  }
 ],
 "metadata": {
  "@webio": {
   "lastCommId": "dd601fe7e7794cb6a4912cb312d6c95f",
   "lastKernelId": "ec27161c-63e7-429c-b78f-94d7d4a73a16"
  },
  "kernelspec": {
   "display_name": "Julia 1.0.2",
   "language": "julia",
   "name": "julia-1.0"
  },
  "language_info": {
   "file_extension": ".jl",
   "mimetype": "application/julia",
   "name": "julia",
   "version": "1.0.2"
  }
 },
 "nbformat": 4,
 "nbformat_minor": 1
}
